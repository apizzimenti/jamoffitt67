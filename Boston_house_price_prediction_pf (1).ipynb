{
 "cells": [
  {
   "cell_type": "markdown",
   "metadata": {
    "id": "2_cJypdzHTQI"
   },
   "source": [
    "# Boston Housing Price Prediction with Linear Regression\n",
    "\n",
    "Julia A. Moffit, PhD"
   ]
  },
  {
   "cell_type": "markdown",
   "metadata": {
    "id": "-Ywdg8t8HTQL"
   },
   "source": [
    "-------------------------------\n",
    "## Problem Statement\n",
    "-------------------------------\n",
    "The following project was designed to hone and leverage linear regression models in order to evaluate features that impact valuation of real estate properties.  Techniques of data preprocessing and linear regression modeling were utilized. Although the data set utilized in this analysis is outdated, it can serve as an approach to evaluate similar data structures in more recent data sets.\n",
    "\n",
    "----------------------------\n",
    "## Data Information\n",
    "---------------------------\n",
    "\n",
    "Each record in the database describes a Boston suburb or town. The data was drawn from the Boston Standard Metropolitan Statistical Area (SMSA) in 1970. Detailed attribute information can be found below-\n",
    "\n",
    "Attribute Information (in order):\n",
    "- **CRIM:**     per capita crime rate by town\n",
    "- **ZN:**       proportion of residential land zoned for lots over 25,000 sq.ft.\n",
    "- **INDUS:**    proportion of non-retail business acres per town\n",
    "- **CHAS:**     Charles River dummy variable (= 1 if tract bounds river; 0 otherwise)\n",
    "- **NOX:**      nitric oxides concentration (parts per 10 million)\n",
    "- **RM:**       average number of rooms per dwelling\n",
    "- **AGE:**     proportion of owner-occupied units built before 1940\n",
    "- **DIS:**      weighted distances to five Boston employment centers\n",
    "- **RAD:**      index of accessibility to radial highways\n",
    "- **TAX:**      full-value property-tax rate per 10,000 dollars\n",
    "- **PTRATIO:**  pupil-teacher ratio by town\n",
    "- **LSTAT:**    %Socioeconomic status of the population\n",
    "- **MEDV:**     Median value of owner-occupied homes in 1000 dollars"
   ]
  },
  {
   "cell_type": "markdown",
   "metadata": {
    "id": "Pzh5TNLcHTQM"
   },
   "source": [
    "### Importing required libraries"
   ]
  },
  {
   "cell_type": "code",
   "execution_count": 2,
   "metadata": {
    "id": "JAwzXNJvHTQN"
   },
   "outputs": [],
   "source": [
    "# import libraries for data manipulation\n",
    "import pandas as pd\n",
    "import numpy as np\n",
    "\n",
    "# import libraries for data visualization\n",
    "import matplotlib.pyplot as plt\n",
    "import seaborn as sns\n",
    "from statsmodels.graphics.gofplots import ProbPlot\n",
    "\n",
    "# import libraries for building linear regression model\n",
    "from statsmodels.formula.api import ols\n",
    "import statsmodels.api as sm\n",
    "import statsmodels.formula.api as smf\n",
    "from sklearn.linear_model import LinearRegression\n",
    "\n",
    "# import library for preparing data\n",
    "from sklearn.model_selection import train_test_split\n",
    "\n",
    "# import library for data preprocessing\n",
    "from sklearn.preprocessing import MinMaxScaler\n",
    "\n",
    "import warnings\n",
    "warnings.filterwarnings(\"ignore\")"
   ]
  },
  {
   "cell_type": "markdown",
   "metadata": {
    "id": "J7VVqC8nHTQT"
   },
   "source": [
    "### Read the dataset"
   ]
  },
  {
   "cell_type": "code",
   "execution_count": 3,
   "metadata": {
    "colab": {
     "base_uri": "https://localhost:8080/",
     "height": 204
    },
    "id": "zEHB3h_pHTQU",
    "outputId": "87895484-50ac-4e04-ba49-da32f8b78dfc",
    "scrolled": false
   },
   "outputs": [
    {
     "data": {
      "text/html": [
       "<div>\n",
       "<style scoped>\n",
       "    .dataframe tbody tr th:only-of-type {\n",
       "        vertical-align: middle;\n",
       "    }\n",
       "\n",
       "    .dataframe tbody tr th {\n",
       "        vertical-align: top;\n",
       "    }\n",
       "\n",
       "    .dataframe thead th {\n",
       "        text-align: right;\n",
       "    }\n",
       "</style>\n",
       "<table border=\"1\" class=\"dataframe\">\n",
       "  <thead>\n",
       "    <tr style=\"text-align: right;\">\n",
       "      <th></th>\n",
       "      <th>CRIM</th>\n",
       "      <th>ZN</th>\n",
       "      <th>INDUS</th>\n",
       "      <th>CHAS</th>\n",
       "      <th>NOX</th>\n",
       "      <th>RM</th>\n",
       "      <th>AGE</th>\n",
       "      <th>DIS</th>\n",
       "      <th>RAD</th>\n",
       "      <th>TAX</th>\n",
       "      <th>PTRATIO</th>\n",
       "      <th>LSTAT</th>\n",
       "      <th>MEDV</th>\n",
       "    </tr>\n",
       "  </thead>\n",
       "  <tbody>\n",
       "    <tr>\n",
       "      <th>0</th>\n",
       "      <td>0.00632</td>\n",
       "      <td>18.0</td>\n",
       "      <td>2.31</td>\n",
       "      <td>0</td>\n",
       "      <td>0.538</td>\n",
       "      <td>6.575</td>\n",
       "      <td>65.2</td>\n",
       "      <td>4.0900</td>\n",
       "      <td>1</td>\n",
       "      <td>296</td>\n",
       "      <td>15.3</td>\n",
       "      <td>4.98</td>\n",
       "      <td>24.0</td>\n",
       "    </tr>\n",
       "    <tr>\n",
       "      <th>1</th>\n",
       "      <td>0.02731</td>\n",
       "      <td>0.0</td>\n",
       "      <td>7.07</td>\n",
       "      <td>0</td>\n",
       "      <td>0.469</td>\n",
       "      <td>6.421</td>\n",
       "      <td>78.9</td>\n",
       "      <td>4.9671</td>\n",
       "      <td>2</td>\n",
       "      <td>242</td>\n",
       "      <td>17.8</td>\n",
       "      <td>9.14</td>\n",
       "      <td>21.6</td>\n",
       "    </tr>\n",
       "    <tr>\n",
       "      <th>2</th>\n",
       "      <td>0.02729</td>\n",
       "      <td>0.0</td>\n",
       "      <td>7.07</td>\n",
       "      <td>0</td>\n",
       "      <td>0.469</td>\n",
       "      <td>7.185</td>\n",
       "      <td>61.1</td>\n",
       "      <td>4.9671</td>\n",
       "      <td>2</td>\n",
       "      <td>242</td>\n",
       "      <td>17.8</td>\n",
       "      <td>4.03</td>\n",
       "      <td>34.7</td>\n",
       "    </tr>\n",
       "    <tr>\n",
       "      <th>3</th>\n",
       "      <td>0.03237</td>\n",
       "      <td>0.0</td>\n",
       "      <td>2.18</td>\n",
       "      <td>0</td>\n",
       "      <td>0.458</td>\n",
       "      <td>6.998</td>\n",
       "      <td>45.8</td>\n",
       "      <td>6.0622</td>\n",
       "      <td>3</td>\n",
       "      <td>222</td>\n",
       "      <td>18.7</td>\n",
       "      <td>2.94</td>\n",
       "      <td>33.4</td>\n",
       "    </tr>\n",
       "    <tr>\n",
       "      <th>4</th>\n",
       "      <td>0.06905</td>\n",
       "      <td>0.0</td>\n",
       "      <td>2.18</td>\n",
       "      <td>0</td>\n",
       "      <td>0.458</td>\n",
       "      <td>7.147</td>\n",
       "      <td>54.2</td>\n",
       "      <td>6.0622</td>\n",
       "      <td>3</td>\n",
       "      <td>222</td>\n",
       "      <td>18.7</td>\n",
       "      <td>5.33</td>\n",
       "      <td>36.2</td>\n",
       "    </tr>\n",
       "    <tr>\n",
       "      <th>...</th>\n",
       "      <td>...</td>\n",
       "      <td>...</td>\n",
       "      <td>...</td>\n",
       "      <td>...</td>\n",
       "      <td>...</td>\n",
       "      <td>...</td>\n",
       "      <td>...</td>\n",
       "      <td>...</td>\n",
       "      <td>...</td>\n",
       "      <td>...</td>\n",
       "      <td>...</td>\n",
       "      <td>...</td>\n",
       "      <td>...</td>\n",
       "    </tr>\n",
       "    <tr>\n",
       "      <th>501</th>\n",
       "      <td>0.06263</td>\n",
       "      <td>0.0</td>\n",
       "      <td>11.93</td>\n",
       "      <td>0</td>\n",
       "      <td>0.573</td>\n",
       "      <td>6.593</td>\n",
       "      <td>69.1</td>\n",
       "      <td>2.4786</td>\n",
       "      <td>1</td>\n",
       "      <td>273</td>\n",
       "      <td>21.0</td>\n",
       "      <td>9.67</td>\n",
       "      <td>22.4</td>\n",
       "    </tr>\n",
       "    <tr>\n",
       "      <th>502</th>\n",
       "      <td>0.04527</td>\n",
       "      <td>0.0</td>\n",
       "      <td>11.93</td>\n",
       "      <td>0</td>\n",
       "      <td>0.573</td>\n",
       "      <td>6.120</td>\n",
       "      <td>76.7</td>\n",
       "      <td>2.2875</td>\n",
       "      <td>1</td>\n",
       "      <td>273</td>\n",
       "      <td>21.0</td>\n",
       "      <td>9.08</td>\n",
       "      <td>20.6</td>\n",
       "    </tr>\n",
       "    <tr>\n",
       "      <th>503</th>\n",
       "      <td>0.06076</td>\n",
       "      <td>0.0</td>\n",
       "      <td>11.93</td>\n",
       "      <td>0</td>\n",
       "      <td>0.573</td>\n",
       "      <td>6.976</td>\n",
       "      <td>91.0</td>\n",
       "      <td>2.1675</td>\n",
       "      <td>1</td>\n",
       "      <td>273</td>\n",
       "      <td>21.0</td>\n",
       "      <td>5.64</td>\n",
       "      <td>23.9</td>\n",
       "    </tr>\n",
       "    <tr>\n",
       "      <th>504</th>\n",
       "      <td>0.10959</td>\n",
       "      <td>0.0</td>\n",
       "      <td>11.93</td>\n",
       "      <td>0</td>\n",
       "      <td>0.573</td>\n",
       "      <td>6.794</td>\n",
       "      <td>89.3</td>\n",
       "      <td>2.3889</td>\n",
       "      <td>1</td>\n",
       "      <td>273</td>\n",
       "      <td>21.0</td>\n",
       "      <td>6.48</td>\n",
       "      <td>22.0</td>\n",
       "    </tr>\n",
       "    <tr>\n",
       "      <th>505</th>\n",
       "      <td>0.04741</td>\n",
       "      <td>0.0</td>\n",
       "      <td>11.93</td>\n",
       "      <td>0</td>\n",
       "      <td>0.573</td>\n",
       "      <td>6.030</td>\n",
       "      <td>80.8</td>\n",
       "      <td>2.5050</td>\n",
       "      <td>1</td>\n",
       "      <td>273</td>\n",
       "      <td>21.0</td>\n",
       "      <td>7.88</td>\n",
       "      <td>11.9</td>\n",
       "    </tr>\n",
       "  </tbody>\n",
       "</table>\n",
       "<p>506 rows × 13 columns</p>\n",
       "</div>"
      ],
      "text/plain": [
       "        CRIM    ZN  INDUS  CHAS    NOX     RM   AGE     DIS  RAD  TAX  \\\n",
       "0    0.00632  18.0   2.31     0  0.538  6.575  65.2  4.0900    1  296   \n",
       "1    0.02731   0.0   7.07     0  0.469  6.421  78.9  4.9671    2  242   \n",
       "2    0.02729   0.0   7.07     0  0.469  7.185  61.1  4.9671    2  242   \n",
       "3    0.03237   0.0   2.18     0  0.458  6.998  45.8  6.0622    3  222   \n",
       "4    0.06905   0.0   2.18     0  0.458  7.147  54.2  6.0622    3  222   \n",
       "..       ...   ...    ...   ...    ...    ...   ...     ...  ...  ...   \n",
       "501  0.06263   0.0  11.93     0  0.573  6.593  69.1  2.4786    1  273   \n",
       "502  0.04527   0.0  11.93     0  0.573  6.120  76.7  2.2875    1  273   \n",
       "503  0.06076   0.0  11.93     0  0.573  6.976  91.0  2.1675    1  273   \n",
       "504  0.10959   0.0  11.93     0  0.573  6.794  89.3  2.3889    1  273   \n",
       "505  0.04741   0.0  11.93     0  0.573  6.030  80.8  2.5050    1  273   \n",
       "\n",
       "     PTRATIO  LSTAT  MEDV  \n",
       "0       15.3   4.98  24.0  \n",
       "1       17.8   9.14  21.6  \n",
       "2       17.8   4.03  34.7  \n",
       "3       18.7   2.94  33.4  \n",
       "4       18.7   5.33  36.2  \n",
       "..       ...    ...   ...  \n",
       "501     21.0   9.67  22.4  \n",
       "502     21.0   9.08  20.6  \n",
       "503     21.0   5.64  23.9  \n",
       "504     21.0   6.48  22.0  \n",
       "505     21.0   7.88  11.9  \n",
       "\n",
       "[506 rows x 13 columns]"
      ]
     },
     "execution_count": 3,
     "metadata": {},
     "output_type": "execute_result"
    }
   ],
   "source": [
    "df = pd.read_csv(\"Boston.csv\")\n",
    "df"
   ]
  },
  {
   "cell_type": "markdown",
   "metadata": {
    "id": "ynVgcm3SmEaI"
   },
   "source": [
    "**Observations**\n",
    "* The price of the house indicated by the variable MEDV is the target variable and the rest are the independent variables based on which we will predict house price."
   ]
  },
  {
   "cell_type": "markdown",
   "metadata": {
    "id": "PihFetI8HTQd"
   },
   "source": [
    "### Information about the dataset"
   ]
  },
  {
   "cell_type": "code",
   "execution_count": 3,
   "metadata": {
    "colab": {
     "base_uri": "https://localhost:8080/"
    },
    "id": "oGOWxi76HTQd",
    "outputId": "0695ee0a-5e82-49a2-9f7e-9ed8d34e1531",
    "scrolled": false
   },
   "outputs": [
    {
     "name": "stdout",
     "output_type": "stream",
     "text": [
      "<class 'pandas.core.frame.DataFrame'>\n",
      "RangeIndex: 506 entries, 0 to 505\n",
      "Data columns (total 13 columns):\n",
      " #   Column   Non-Null Count  Dtype  \n",
      "---  ------   --------------  -----  \n",
      " 0   CRIM     506 non-null    float64\n",
      " 1   ZN       506 non-null    float64\n",
      " 2   INDUS    506 non-null    float64\n",
      " 3   CHAS     506 non-null    int64  \n",
      " 4   NOX      506 non-null    float64\n",
      " 5   RM       506 non-null    float64\n",
      " 6   AGE      506 non-null    float64\n",
      " 7   DIS      506 non-null    float64\n",
      " 8   RAD      506 non-null    int64  \n",
      " 9   TAX      506 non-null    int64  \n",
      " 10  PTRATIO  506 non-null    float64\n",
      " 11  LSTAT    506 non-null    float64\n",
      " 12  MEDV     506 non-null    float64\n",
      "dtypes: float64(10), int64(3)\n",
      "memory usage: 51.5 KB\n"
     ]
    }
   ],
   "source": [
    "df.info()"
   ]
  },
  {
   "cell_type": "markdown",
   "metadata": {
    "id": "NAnFYrfhmEaJ"
   },
   "source": [
    "**Observations**\n",
    "* There are a total of 506 non-null observations in each of the columns. This indicates that there are no missing values in the data.\n",
    "\n",
    "* Every column in this dataset is numeric in nature."
   ]
  },
  {
   "cell_type": "markdown",
   "metadata": {
    "id": "rTijRLu82_61"
   },
   "source": [
    "### Obtain summary statistics of the dataset"
   ]
  },
  {
   "cell_type": "code",
   "execution_count": 4,
   "metadata": {
    "id": "bBhsiAbxHTQg",
    "scrolled": true
   },
   "outputs": [
    {
     "data": {
      "text/html": [
       "<div>\n",
       "<style scoped>\n",
       "    .dataframe tbody tr th:only-of-type {\n",
       "        vertical-align: middle;\n",
       "    }\n",
       "\n",
       "    .dataframe tbody tr th {\n",
       "        vertical-align: top;\n",
       "    }\n",
       "\n",
       "    .dataframe thead th {\n",
       "        text-align: right;\n",
       "    }\n",
       "</style>\n",
       "<table border=\"1\" class=\"dataframe\">\n",
       "  <thead>\n",
       "    <tr style=\"text-align: right;\">\n",
       "      <th></th>\n",
       "      <th>count</th>\n",
       "      <th>mean</th>\n",
       "      <th>std</th>\n",
       "      <th>min</th>\n",
       "      <th>25%</th>\n",
       "      <th>50%</th>\n",
       "      <th>75%</th>\n",
       "      <th>max</th>\n",
       "    </tr>\n",
       "  </thead>\n",
       "  <tbody>\n",
       "    <tr>\n",
       "      <th>CRIM</th>\n",
       "      <td>506.0</td>\n",
       "      <td>3.613524</td>\n",
       "      <td>8.601545</td>\n",
       "      <td>0.00632</td>\n",
       "      <td>0.082045</td>\n",
       "      <td>0.25651</td>\n",
       "      <td>3.677083</td>\n",
       "      <td>88.9762</td>\n",
       "    </tr>\n",
       "    <tr>\n",
       "      <th>ZN</th>\n",
       "      <td>506.0</td>\n",
       "      <td>11.363636</td>\n",
       "      <td>23.322453</td>\n",
       "      <td>0.00000</td>\n",
       "      <td>0.000000</td>\n",
       "      <td>0.00000</td>\n",
       "      <td>12.500000</td>\n",
       "      <td>100.0000</td>\n",
       "    </tr>\n",
       "    <tr>\n",
       "      <th>INDUS</th>\n",
       "      <td>506.0</td>\n",
       "      <td>11.136779</td>\n",
       "      <td>6.860353</td>\n",
       "      <td>0.46000</td>\n",
       "      <td>5.190000</td>\n",
       "      <td>9.69000</td>\n",
       "      <td>18.100000</td>\n",
       "      <td>27.7400</td>\n",
       "    </tr>\n",
       "    <tr>\n",
       "      <th>CHAS</th>\n",
       "      <td>506.0</td>\n",
       "      <td>0.069170</td>\n",
       "      <td>0.253994</td>\n",
       "      <td>0.00000</td>\n",
       "      <td>0.000000</td>\n",
       "      <td>0.00000</td>\n",
       "      <td>0.000000</td>\n",
       "      <td>1.0000</td>\n",
       "    </tr>\n",
       "    <tr>\n",
       "      <th>NOX</th>\n",
       "      <td>506.0</td>\n",
       "      <td>0.554695</td>\n",
       "      <td>0.115878</td>\n",
       "      <td>0.38500</td>\n",
       "      <td>0.449000</td>\n",
       "      <td>0.53800</td>\n",
       "      <td>0.624000</td>\n",
       "      <td>0.8710</td>\n",
       "    </tr>\n",
       "    <tr>\n",
       "      <th>RM</th>\n",
       "      <td>506.0</td>\n",
       "      <td>6.284634</td>\n",
       "      <td>0.702617</td>\n",
       "      <td>3.56100</td>\n",
       "      <td>5.885500</td>\n",
       "      <td>6.20850</td>\n",
       "      <td>6.623500</td>\n",
       "      <td>8.7800</td>\n",
       "    </tr>\n",
       "    <tr>\n",
       "      <th>AGE</th>\n",
       "      <td>506.0</td>\n",
       "      <td>68.574901</td>\n",
       "      <td>28.148861</td>\n",
       "      <td>2.90000</td>\n",
       "      <td>45.025000</td>\n",
       "      <td>77.50000</td>\n",
       "      <td>94.075000</td>\n",
       "      <td>100.0000</td>\n",
       "    </tr>\n",
       "    <tr>\n",
       "      <th>DIS</th>\n",
       "      <td>506.0</td>\n",
       "      <td>3.795043</td>\n",
       "      <td>2.105710</td>\n",
       "      <td>1.12960</td>\n",
       "      <td>2.100175</td>\n",
       "      <td>3.20745</td>\n",
       "      <td>5.188425</td>\n",
       "      <td>12.1265</td>\n",
       "    </tr>\n",
       "    <tr>\n",
       "      <th>RAD</th>\n",
       "      <td>506.0</td>\n",
       "      <td>9.549407</td>\n",
       "      <td>8.707259</td>\n",
       "      <td>1.00000</td>\n",
       "      <td>4.000000</td>\n",
       "      <td>5.00000</td>\n",
       "      <td>24.000000</td>\n",
       "      <td>24.0000</td>\n",
       "    </tr>\n",
       "    <tr>\n",
       "      <th>TAX</th>\n",
       "      <td>506.0</td>\n",
       "      <td>408.237154</td>\n",
       "      <td>168.537116</td>\n",
       "      <td>187.00000</td>\n",
       "      <td>279.000000</td>\n",
       "      <td>330.00000</td>\n",
       "      <td>666.000000</td>\n",
       "      <td>711.0000</td>\n",
       "    </tr>\n",
       "    <tr>\n",
       "      <th>PTRATIO</th>\n",
       "      <td>506.0</td>\n",
       "      <td>18.455534</td>\n",
       "      <td>2.164946</td>\n",
       "      <td>12.60000</td>\n",
       "      <td>17.400000</td>\n",
       "      <td>19.05000</td>\n",
       "      <td>20.200000</td>\n",
       "      <td>22.0000</td>\n",
       "    </tr>\n",
       "    <tr>\n",
       "      <th>LSTAT</th>\n",
       "      <td>506.0</td>\n",
       "      <td>12.653063</td>\n",
       "      <td>7.141062</td>\n",
       "      <td>1.73000</td>\n",
       "      <td>6.950000</td>\n",
       "      <td>11.36000</td>\n",
       "      <td>16.955000</td>\n",
       "      <td>37.9700</td>\n",
       "    </tr>\n",
       "    <tr>\n",
       "      <th>MEDV</th>\n",
       "      <td>506.0</td>\n",
       "      <td>22.532806</td>\n",
       "      <td>9.197104</td>\n",
       "      <td>5.00000</td>\n",
       "      <td>17.025000</td>\n",
       "      <td>21.20000</td>\n",
       "      <td>25.000000</td>\n",
       "      <td>50.0000</td>\n",
       "    </tr>\n",
       "  </tbody>\n",
       "</table>\n",
       "</div>"
      ],
      "text/plain": [
       "         count        mean         std        min         25%        50%  \\\n",
       "CRIM     506.0    3.613524    8.601545    0.00632    0.082045    0.25651   \n",
       "ZN       506.0   11.363636   23.322453    0.00000    0.000000    0.00000   \n",
       "INDUS    506.0   11.136779    6.860353    0.46000    5.190000    9.69000   \n",
       "CHAS     506.0    0.069170    0.253994    0.00000    0.000000    0.00000   \n",
       "NOX      506.0    0.554695    0.115878    0.38500    0.449000    0.53800   \n",
       "RM       506.0    6.284634    0.702617    3.56100    5.885500    6.20850   \n",
       "AGE      506.0   68.574901   28.148861    2.90000   45.025000   77.50000   \n",
       "DIS      506.0    3.795043    2.105710    1.12960    2.100175    3.20745   \n",
       "RAD      506.0    9.549407    8.707259    1.00000    4.000000    5.00000   \n",
       "TAX      506.0  408.237154  168.537116  187.00000  279.000000  330.00000   \n",
       "PTRATIO  506.0   18.455534    2.164946   12.60000   17.400000   19.05000   \n",
       "LSTAT    506.0   12.653063    7.141062    1.73000    6.950000   11.36000   \n",
       "MEDV     506.0   22.532806    9.197104    5.00000   17.025000   21.20000   \n",
       "\n",
       "                75%       max  \n",
       "CRIM       3.677083   88.9762  \n",
       "ZN        12.500000  100.0000  \n",
       "INDUS     18.100000   27.7400  \n",
       "CHAS       0.000000    1.0000  \n",
       "NOX        0.624000    0.8710  \n",
       "RM         6.623500    8.7800  \n",
       "AGE       94.075000  100.0000  \n",
       "DIS        5.188425   12.1265  \n",
       "RAD       24.000000   24.0000  \n",
       "TAX      666.000000  711.0000  \n",
       "PTRATIO   20.200000   22.0000  \n",
       "LSTAT     16.955000   37.9700  \n",
       "MEDV      25.000000   50.0000  "
      ]
     },
     "execution_count": 4,
     "metadata": {},
     "output_type": "execute_result"
    }
   ],
   "source": [
    "df.describe().T"
   ]
  },
  {
   "cell_type": "markdown",
   "metadata": {
    "id": "JacT19X1RAiQ"
   },
   "source": [
    "**Observations:**\n",
    "* The variability in some of the parameters is high due the standard deviation being equal to or larger than the mean.  This is further supported in the wide spread between min and max in these variables.  These could have outliers. These include:\n",
    "    * CRIM: Crime rate\n",
    "    * ZN: Proportion of residental land zoned for lots >25k sq ft\n",
    "    * CHAS: Charles river adjacency\n",
    "    * RAD: Index of accessibility to radial highways\n",
    "* CHAS - the Charles River adjacency variable appears to be categorical - coded for numeric\n",
    "* Although all variables are numeric, from the descriptive data you can discern which variables are discrete vs. continuous due to whole numbers shown in min,max and quartiles.  Likely discrete variables include:\n",
    "    * RAD: Index of accessibility to radial highways"
   ]
  },
  {
   "cell_type": "markdown",
   "metadata": {
    "id": "eZF0qJCj6t42"
   },
   "source": [
    "### Univariate Analysis"
   ]
  },
  {
   "cell_type": "markdown",
   "metadata": {
    "id": "DccQjNEOmEaL"
   },
   "source": [
    "### Checking the distribution of the variables"
   ]
  },
  {
   "cell_type": "code",
   "execution_count": 5,
   "metadata": {
    "colab": {
     "base_uri": "https://localhost:8080/",
     "height": 1000
    },
    "id": "tz6okxTbmEaL",
    "outputId": "b5de0bcd-3643-4153-f1f5-752875965baf"
   },
   "outputs": [
    {
     "data": {
      "image/png": "[encoded data removed]",
      "text/plain": [
       "<Figure size 216x72 with 1 Axes>"
      ]
     },
     "metadata": {
      "needs_background": "light"
     },
     "output_type": "display_data"
    },
    {
     "data": {
      "image/png": "[encoded data removed]",
      "text/plain": [
       "<Figure size 216x72 with 1 Axes>"
      ]
     },
     "metadata": {
      "needs_background": "light"
     },
     "output_type": "display_data"
    },
    {
     "data": {
      "image/png": "[encoded data removed]",
      "text/plain": [
       "<Figure size 216x72 with 1 Axes>"
      ]
     },
     "metadata": {
      "needs_background": "light"
     },
     "output_type": "display_data"
    },
    {
     "data": {
      "image/png": "[encoded data removed]",
      "text/plain": [
       "<Figure size 216x72 with 1 Axes>"
      ]
     },
     "metadata": {
      "needs_background": "light"
     },
     "output_type": "display_data"
    },
    {
     "data": {
      "image/png": "[encoded data removed]",
      "text/plain": [
       "<Figure size 216x72 with 1 Axes>"
      ]
     },
     "metadata": {
      "needs_background": "light"
     },
     "output_type": "display_data"
    },
    {
     "data": {
      "image/png": "[encoded data removed]",
      "text/plain": [
       "<Figure size 216x72 with 1 Axes>"
      ]
     },
     "metadata": {
      "needs_background": "light"
     },
     "output_type": "display_data"
    },
    {
     "data": {
      "image/png": "[encoded data removed]",
      "text/plain": [
       "<Figure size 216x72 with 1 Axes>"
      ]
     },
     "metadata": {
      "needs_background": "light"
     },
     "output_type": "display_data"
    },
    {
     "data": {
      "image/png": "[encoded data removed]",
      "text/plain": [
       "<Figure size 216x72 with 1 Axes>"
      ]
     },
     "metadata": {
      "needs_background": "light"
     },
     "output_type": "display_data"
    },
    {
     "data": {
      "image/png": "[encoded data removed]",
      "text/plain": [
       "<Figure size 216x72 with 1 Axes>"
      ]
     },
     "metadata": {
      "needs_background": "light"
     },
     "output_type": "display_data"
    },
    {
     "data": {
      "image/png": "[encoded data removed]",
      "text/plain": [
       "<Figure size 216x72 with 1 Axes>"
      ]
     },
     "metadata": {
      "needs_background": "light"
     },
     "output_type": "display_data"
    },
    {
     "data": {
      "image/png": "[encoded data removed]",
      "text/plain": [
       "<Figure size 216x72 with 1 Axes>"
      ]
     },
     "metadata": {
      "needs_background": "light"
     },
     "output_type": "display_data"
    },
    {
     "data": {
      "image/png": "[encoded data removed]",
      "text/plain": [
       "<Figure size 216x72 with 1 Axes>"
      ]
     },
     "metadata": {
      "needs_background": "light"
     },
     "output_type": "display_data"
    },
    {
     "data": {
      "image/png": "[encoded data removed]",
      "text/plain": [
       "<Figure size 216x72 with 1 Axes>"
      ]
     },
     "metadata": {
      "needs_background": "light"
     },
     "output_type": "display_data"
    }
   ],
   "source": [
    "# visulization of variable distributions\n",
    "for i in df.columns:\n",
    "    plt.figure(figsize=(3, 1))\n",
    "    sns.histplot(data=df, x=i, kde = True)\n",
    "    plt.show()"
   ]
  },
  {
   "cell_type": "markdown",
   "metadata": {
    "id": "7r8aVFPbRKpv"
   },
   "source": [
    "**Observations**\n",
    "* **The variables CRIM and ZN are positively skewed.** This suggests that most of the areas have lower crime rates and most residential plots are under the area of 25,000 sq. ft.\n",
    "* **The variable CHAS, with only 2 possible values 0 and 1, follows a binomial distribution**, and the majority of the houses are away from Charles river (CHAS = 0).\n",
    "* The distribution of the variable AGE suggests that many of the owner-occupied houses were built before 1940. \n",
    "* **The variable DIS** (average distances to five Boston employment centers) **has a nearly exponential distribution**, which indicates that most of the houses are closer to these employment centers.\n",
    "* **The variables TAX and RAD have a bimodal distribution.**, indicating that the tax rate is possibly higher for some properties which have a high index of accessibility to radial highways.  \n",
    "* The dependent variable MEDV seems to be slightly right skewed."
   ]
  },
  {
   "cell_type": "markdown",
   "metadata": {
    "id": "r-_G6u4ZRKpw"
   },
   "source": [
    "As the dependent variable is sightly skewed, application of a **log transformation on the 'MEDV' column** will be performed and the resultant distribution of the transformed column will be checked."
   ]
  },
  {
   "cell_type": "code",
   "execution_count": 6,
   "metadata": {
    "id": "hvsHuDuvRKpx"
   },
   "outputs": [],
   "source": [
    "df['MEDV_log'] = np.log(df['MEDV'])"
   ]
  },
  {
   "cell_type": "code",
   "execution_count": 7,
   "metadata": {
    "colab": {
     "base_uri": "https://localhost:8080/",
     "height": 297
    },
    "id": "9gf4_f3wRKpx",
    "outputId": "d5abef32-ef6b-44c7-e7a2-18dd5a23ac8f"
   },
   "outputs": [
    {
     "data": {
      "text/plain": [
       "<AxesSubplot:xlabel='MEDV_log', ylabel='Count'>"
      ]
     },
     "execution_count": 7,
     "metadata": {},
     "output_type": "execute_result"
    },
    {
     "data": {
      "image/png": "[encoded data removed]",
      "text/plain": [
       "<Figure size 432x288 with 1 Axes>"
      ]
     },
     "metadata": {
      "needs_background": "light"
     },
     "output_type": "display_data"
    }
   ],
   "source": [
    "sns.histplot(data=df, x='MEDV_log', kde = True)"
   ]
  },
  {
   "cell_type": "markdown",
   "metadata": {
    "id": "ctaaai666Ili"
   },
   "source": [
    "**Observations**\n",
    "* The log-transformed variable (**MEDV_log**) appears to have a **nearly normal distribution without skew**, and hence we can proceed."
   ]
  },
  {
   "cell_type": "markdown",
   "metadata": {
    "id": "HvSm7rwE65_B"
   },
   "source": [
    "### Bivariate Analysis"
   ]
  },
  {
   "cell_type": "markdown",
   "metadata": {
    "id": "_cRRaoo6mEaM"
   },
   "source": [
    "#### Correlation analysis using a heatmap"
   ]
  },
  {
   "cell_type": "code",
   "execution_count": 8,
   "metadata": {
    "id": "XGnlhiwGHTQz",
    "scrolled": false
   },
   "outputs": [
    {
     "data": {
      "image/png": "[encoded data removed]",
      "text/plain": [
       "<Figure size 864x576 with 2 Axes>"
      ]
     },
     "metadata": {
      "needs_background": "light"
     },
     "output_type": "display_data"
    }
   ],
   "source": [
    "plt.figure(figsize=(12,8))\n",
    "cmap = sns.diverging_palette(150, 20, as_cmap=True)\n",
    "sns.heatmap(df.corr(), annot=True,fmt='.2f',cmap=cmap ) #write your code here\n",
    "plt.show()"
   ]
  },
  {
   "cell_type": "markdown",
   "metadata": {
    "id": "Kmsjqg4oRAim"
   },
   "source": [
    "**Observations:**\n",
    "* Significant correlations r > 0.7) are as follows:\n",
    "    * Areas with more indsutrial areas were associated with a greater property tax rate (r = 0.72).\n",
    "    * These industrial areas were negatively correlated with the weighted distance to Boston employment centers meaning these industrial areas were likely in close approximation to the employment centers (r= -.71).\n",
    "    * Industrial areas were significantly associated a nitric oxide concentration - these are essentially photochemical smog. (r=0.76) \n",
    "    * Nitric oxides (smog) was positively associated with the age of the property (r=0.73) and inversely related to the distance to Boston employment centers - meaning they were close by (r=-0.75).  \n",
    "    * Properties with a higher number of bedrooms per dwelling was significantly associated with a higher median value of the home (target), which is logical and expected. (r=0.70)\n",
    "    * Older properties were assicated with being closer to employment centers as distance to these centers was negatively associated with age of the property (0.-75).\n",
    "    * Radial highway accessibility was highly, and significantly correlated with the property tax rate (r=0.91).  \n",
    "    * LSAT - the index of lower socioeconomic status, was signiicantly and negatively associated with the log median value of the properties (r=-0.81 (log)) value.  \n",
    "    * MEDV and MEDV_log were highly correlated - which is expected, however we will only use log transformed variable for our analysis.  \n",
    "* Overall analysis shows that some multi-colinearity may exist which will have to be dealt with.\n",
    "* There are a number of important predictor variables to consider in the regression: INDUS, NOX, RM, AGE, RAD, LSAT. "
   ]
  },
  {
   "cell_type": "markdown",
   "metadata": {
    "id": "QfOeI9ljHTQn"
   },
   "source": [
    "### Visualizing the relationship between the features having significant correlations (> 0.7) "
   ]
  },
  {
   "cell_type": "code",
   "execution_count": 10,
   "metadata": {
    "id": "Um10uS1zen-7",
    "scrolled": true
   },
   "outputs": [
    {
     "data": {
      "image/png": "[encoded data removed]",
      "text/plain": [
       "<Figure size 288x288 with 1 Axes>"
      ]
     },
     "metadata": {
      "needs_background": "light"
     },
     "output_type": "display_data"
    }
   ],
   "source": [
    "# scatterplot to visualize the relationship between NOX and INDUS\n",
    "plt.figure(figsize=(4, 4))\n",
    "sns.scatterplot(x='NOX', y='INDUS', data=df)#write you code here\n",
    "plt.show()"
   ]
  },
  {
   "cell_type": "markdown",
   "metadata": {
    "id": "1UztFyhXRAis"
   },
   "source": [
    "**Observations:**\n",
    "* Largely the relationship between environmental pollution (NOX: nitric oxides (smog)) and industrial properties is linear, however visual inspection indicates greater variation in the relationship between these variables at higher levels of NOX.  This indicates this may violate the assumption of homoscedasticity.  "
   ]
  },
  {
   "cell_type": "code",
   "execution_count": 11,
   "metadata": {
    "id": "aSvLmh6mmEaN"
   },
   "outputs": [
    {
     "data": {
      "image/png": "[encoded data removed]",
      "text/plain": [
       "<Figure size 288x288 with 1 Axes>"
      ]
     },
     "metadata": {
      "needs_background": "light"
     },
     "output_type": "display_data"
    }
   ],
   "source": [
    "# scatterplot to visualize the relationship between AGE and NOX\n",
    "plt.figure(figsize=(4, 4))\n",
    "sns.scatterplot(x='AGE', y='NOX', data=df) #Write your code here\n",
    "plt.show()"
   ]
  },
  {
   "cell_type": "markdown",
   "metadata": {
    "id": "ognbRRh9RAiw"
   },
   "source": [
    "**Observations:____**\n",
    "\n",
    "* The relationship between the age of the properties and smog is more of a logrhythmic function - at the highest levels of aged property propoportions, the NOX value increases precipitously.  These values may need log transformation. "
   ]
  },
  {
   "cell_type": "code",
   "execution_count": 12,
   "metadata": {
    "id": "zOLrtRekmEaN",
    "scrolled": true
   },
   "outputs": [
    {
     "data": {
      "image/png": "[encoded data removed]",
      "text/plain": [
       "<Figure size 288x288 with 1 Axes>"
      ]
     },
     "metadata": {
      "needs_background": "light"
     },
     "output_type": "display_data"
    }
   ],
   "source": [
    "# scatterplot to visualize the relationship between DIS and NOX\n",
    "plt.figure(figsize=(4, 4))\n",
    "sns.scatterplot(x='DIS', y='NOX', data=df)#Write your code here\n",
    "plt.show()"
   ]
  },
  {
   "cell_type": "markdown",
   "metadata": {
    "id": "XqQUKc0RRAiy"
   },
   "source": [
    "**Observations:**\n",
    "\n",
    "* As the distance to employment centers increases, the environmental nitric oxides (smog) decreases, however this relationship is not linear.  Although significantly correlated follows more of an inverse variation function.  This makes sense as the concentrations of toxins decay in an inverse variation function as they diffuse across distances. These data should be log transformed. "
   ]
  },
  {
   "cell_type": "code",
   "execution_count": 13,
   "metadata": {
    "id": "nkhvfnQ0mEaN",
    "outputId": "b1d10228-34be-42ac-f232-ebc945b591a8",
    "scrolled": false
   },
   "outputs": [
    {
     "data": {
      "image/png": "[encoded data removed]",
      "text/plain": [
       "<Figure size 288x288 with 1 Axes>"
      ]
     },
     "metadata": {
      "needs_background": "light"
     },
     "output_type": "display_data"
    }
   ],
   "source": [
    "# scatterplot to visualize the relationship between AGE and DIS\n",
    "plt.figure(figsize=(4, 4))\n",
    "sns.scatterplot(x = 'AGE', y = 'DIS', data = df)\n",
    "plt.show()"
   ]
  },
  {
   "cell_type": "markdown",
   "metadata": {
    "id": "hyCzhvWqRAi0"
   },
   "source": [
    "**Observations:**\n",
    "* The distance of the houses to the Boston employment centers appears to decrease moderately as the the proportion of the old houses increase in the town. It is possible that the Boston employment centers are located in the established towns where proportion of owner-occupied units built prior to 1940 is comparatively high."
   ]
  },
  {
   "cell_type": "code",
   "execution_count": 14,
   "metadata": {
    "id": "NWGsd6b6mEaO",
    "outputId": "5755c58f-dab8-40e9-e6f7-d96d8d38309c",
    "scrolled": true
   },
   "outputs": [
    {
     "data": {
      "image/png": "[encoded data removed]",
      "text/plain": [
       "<Figure size 288x288 with 1 Axes>"
      ]
     },
     "metadata": {
      "needs_background": "light"
     },
     "output_type": "display_data"
    }
   ],
   "source": [
    "# scatterplot to visualize the relationship between AGE and INDUS\n",
    "plt.figure(figsize=(4, 4))\n",
    "sns.scatterplot(x = 'AGE', y = 'INDUS', data = df)\n",
    "plt.show()"
   ]
  },
  {
   "cell_type": "markdown",
   "metadata": {
    "id": "pJONR4x_RAi3"
   },
   "source": [
    "**Observations:**\n",
    "* No trend between the two variables is observed in the above plot."
   ]
  },
  {
   "cell_type": "code",
   "execution_count": 15,
   "metadata": {
    "id": "lqiKHTqFmEaO",
    "outputId": "05d8dc6e-d124-4ad6-8caf-4a8614a320be",
    "scrolled": false
   },
   "outputs": [
    {
     "data": {
      "image/png": "[encoded data removed]",
      "text/plain": [
       "<Figure size 288x288 with 1 Axes>"
      ]
     },
     "metadata": {
      "needs_background": "light"
     },
     "output_type": "display_data"
    }
   ],
   "source": [
    "# scatterplot to visulaize the relationship between RAD and TAX\n",
    "plt.figure(figsize=(4, 4))\n",
    "sns.scatterplot(x = 'RAD', y = 'TAX', data = df)\n",
    "plt.show()"
   ]
  },
  {
   "cell_type": "markdown",
   "metadata": {
    "id": "mjNld1nnRAi6"
   },
   "source": [
    "**Observations:**\n",
    "* The correlation between RAD and TAX is very high. But, no trend is visible between the two variables. \n",
    "This might be due to outliers. "
   ]
  },
  {
   "cell_type": "markdown",
   "metadata": {
    "id": "8OBx_RTZAYN7"
   },
   "source": [
    "Correlation check after removing the outliers."
   ]
  },
  {
   "cell_type": "code",
   "execution_count": 16,
   "metadata": {
    "id": "2qTskuPLRKp2",
    "outputId": "b18aad4b-4c23-4d05-c29d-94a5fb6be56a"
   },
   "outputs": [
    {
     "name": "stdout",
     "output_type": "stream",
     "text": [
      "The correlation between TAX and RAD is 0.24975731331429196\n"
     ]
    }
   ],
   "source": [
    "# remove the data corresponding to high tax rate\n",
    "df1 = df[df['TAX'] < 600]\n",
    "# import the required function\n",
    "from scipy.stats import pearsonr\n",
    "# calculate the correlation\n",
    "print('The correlation between TAX and RAD is', pearsonr(df1['TAX'], df1['RAD'])[0])"
   ]
  },
  {
   "cell_type": "markdown",
   "metadata": {
    "id": "Rib48gHhRKp2"
   },
   "source": [
    "The high correlation between TAX and RAD is due to the outliers. The tax rate for some properties might be higher due to some other reason."
   ]
  },
  {
   "cell_type": "code",
   "execution_count": 18,
   "metadata": {
    "id": "n5ddxR8JmEaO",
    "outputId": "9fd2ee8b-b184-4408-eab2-104bb33c463b",
    "scrolled": false
   },
   "outputs": [
    {
     "data": {
      "image/png": "[encoded data removed]",
      "text/plain": [
       "<Figure size 288x288 with 1 Axes>"
      ]
     },
     "metadata": {
      "needs_background": "light"
     },
     "output_type": "display_data"
    }
   ],
   "source": [
    "# scatterplot to visualize the relationship between INDUS and TAX\n",
    "plt.figure(figsize=(4, 4))\n",
    "sns.scatterplot(x = 'INDUS', y = 'TAX', data = df)\n",
    "plt.show()"
   ]
  },
  {
   "cell_type": "markdown",
   "metadata": {
    "id": "8laYzUIURKp3"
   },
   "source": [
    "**Observations:**\n",
    "* The tax rate appears to increase with an increase in the proportion of non-retail business acres per town. This might be due to the reason that the variables TAX and INDUS are related with a third variable."
   ]
  },
  {
   "cell_type": "code",
   "execution_count": 20,
   "metadata": {
    "id": "FwoalWG-mEaO",
    "outputId": "b8f7b8a8-a1ca-4024-efa3-1b2d7de9e7b4",
    "scrolled": true
   },
   "outputs": [
    {
     "data": {
      "image/png": "[encoded data removed]",
      "text/plain": [
       "<Figure size 288x288 with 1 Axes>"
      ]
     },
     "metadata": {
      "needs_background": "light"
     },
     "output_type": "display_data"
    }
   ],
   "source": [
    "# scatterplot to visulaize the relationship between RM and MEDV\n",
    "plt.figure(figsize=(4, 4))\n",
    "sns.scatterplot(x = 'RM', y = 'MEDV', data = df)\n",
    "plt.show()"
   ]
  },
  {
   "cell_type": "markdown",
   "metadata": {
    "id": "AkZn_JOURKp3"
   },
   "source": [
    "**Observations:**\n",
    "* The price of the house seems to increase as the value of RM increases. This is expected as the price is generally higher for more rooms.\n",
    "\n",
    "* There are a few outliers in a horizontal line as the MEDV value seems to be capped at 50."
   ]
  },
  {
   "cell_type": "code",
   "execution_count": 21,
   "metadata": {
    "id": "dh3dblT9mEaP",
    "outputId": "ccb46764-3095-4952-9d2a-3582ae6bde41",
    "scrolled": false
   },
   "outputs": [
    {
     "data": {
      "image/png": "[encoded data removed]",
      "text/plain": [
       "<Figure size 288x288 with 1 Axes>"
      ]
     },
     "metadata": {
      "needs_background": "light"
     },
     "output_type": "display_data"
    }
   ],
   "source": [
    "# scatterplot to visulaize the relationship between LSTAT and MEDV\n",
    "plt.figure(figsize=(4, 4))\n",
    "sns.scatterplot(x = 'LSTAT', y = 'MEDV', data = df)\n",
    "plt.show()"
   ]
  },
  {
   "cell_type": "markdown",
   "metadata": {
    "id": "MgcUFLZgmEaP"
   },
   "source": [
    "**Observations:**\n",
    "* The price of the house tends to decrease with an increase in LSTAT. This is also possible as the house price is lower in areas where lower status people live.\n",
    "* There are few outliers and the data seems to be capped at 50."
   ]
  },
  {
   "cell_type": "markdown",
   "metadata": {
    "id": "q2Gowz5GRKp4"
   },
   "source": [
    "It has been observed that the variables LSTAT and RM have a linear relationship with the dependent variable MEDV. Also, there are significant relationships among a few independent variables, which is not desirable for a linear regression model. Let's first split the dataset."
   ]
  },
  {
   "cell_type": "markdown",
   "metadata": {
    "id": "tdPzLNVRHTQ2"
   },
   "source": [
    "### Split the dataset\n",
    "Splitting the data into the dependent and independent variables and further split it into train and test set in a ratio of 70:30 for train and test set."
   ]
  },
  {
   "cell_type": "code",
   "execution_count": 22,
   "metadata": {
    "id": "beebRRkvHTQ3"
   },
   "outputs": [],
   "source": [
    "# separate the dependent and independent variable\n",
    "df.reset_index(drop = True)\n",
    "\n",
    "Y = df['MEDV_log']\n",
    "X = df.drop(columns = {'MEDV', 'MEDV_log'})\n",
    "\n",
    "# add the intercept term\n",
    "X = sm.add_constant(X)"
   ]
  },
  {
   "cell_type": "code",
   "execution_count": 23,
   "metadata": {
    "id": "JRFWKGdpHTQ5"
   },
   "outputs": [],
   "source": [
    "# splitting the data in 70:30 ratio of train to test data\n",
    "X_train, X_test, Y_train, Y_test = train_test_split(X, Y, test_size=0.30 , random_state=1)"
   ]
  },
  {
   "cell_type": "code",
   "execution_count": 24,
   "metadata": {
    "scrolled": true
   },
   "outputs": [
    {
     "data": {
      "text/html": [
       "<div>\n",
       "<style scoped>\n",
       "    .dataframe tbody tr th:only-of-type {\n",
       "        vertical-align: middle;\n",
       "    }\n",
       "\n",
       "    .dataframe tbody tr th {\n",
       "        vertical-align: top;\n",
       "    }\n",
       "\n",
       "    .dataframe thead th {\n",
       "        text-align: right;\n",
       "    }\n",
       "</style>\n",
       "<table border=\"1\" class=\"dataframe\">\n",
       "  <thead>\n",
       "    <tr style=\"text-align: right;\">\n",
       "      <th></th>\n",
       "      <th>const</th>\n",
       "      <th>CRIM</th>\n",
       "      <th>ZN</th>\n",
       "      <th>INDUS</th>\n",
       "      <th>CHAS</th>\n",
       "      <th>NOX</th>\n",
       "      <th>RM</th>\n",
       "      <th>AGE</th>\n",
       "      <th>DIS</th>\n",
       "      <th>RAD</th>\n",
       "      <th>TAX</th>\n",
       "      <th>PTRATIO</th>\n",
       "      <th>LSTAT</th>\n",
       "    </tr>\n",
       "  </thead>\n",
       "  <tbody>\n",
       "    <tr>\n",
       "      <th>13</th>\n",
       "      <td>1.0</td>\n",
       "      <td>0.62976</td>\n",
       "      <td>0.0</td>\n",
       "      <td>8.14</td>\n",
       "      <td>0</td>\n",
       "      <td>0.538</td>\n",
       "      <td>5.949</td>\n",
       "      <td>61.8</td>\n",
       "      <td>4.7075</td>\n",
       "      <td>4</td>\n",
       "      <td>307</td>\n",
       "      <td>21.0</td>\n",
       "      <td>8.26</td>\n",
       "    </tr>\n",
       "    <tr>\n",
       "      <th>61</th>\n",
       "      <td>1.0</td>\n",
       "      <td>0.17171</td>\n",
       "      <td>25.0</td>\n",
       "      <td>5.13</td>\n",
       "      <td>0</td>\n",
       "      <td>0.453</td>\n",
       "      <td>5.966</td>\n",
       "      <td>93.4</td>\n",
       "      <td>6.8185</td>\n",
       "      <td>8</td>\n",
       "      <td>284</td>\n",
       "      <td>19.7</td>\n",
       "      <td>14.44</td>\n",
       "    </tr>\n",
       "    <tr>\n",
       "      <th>377</th>\n",
       "      <td>1.0</td>\n",
       "      <td>9.82349</td>\n",
       "      <td>0.0</td>\n",
       "      <td>18.10</td>\n",
       "      <td>0</td>\n",
       "      <td>0.671</td>\n",
       "      <td>6.794</td>\n",
       "      <td>98.8</td>\n",
       "      <td>1.3580</td>\n",
       "      <td>24</td>\n",
       "      <td>666</td>\n",
       "      <td>20.2</td>\n",
       "      <td>21.24</td>\n",
       "    </tr>\n",
       "    <tr>\n",
       "      <th>39</th>\n",
       "      <td>1.0</td>\n",
       "      <td>0.02763</td>\n",
       "      <td>75.0</td>\n",
       "      <td>2.95</td>\n",
       "      <td>0</td>\n",
       "      <td>0.428</td>\n",
       "      <td>6.595</td>\n",
       "      <td>21.8</td>\n",
       "      <td>5.4011</td>\n",
       "      <td>3</td>\n",
       "      <td>252</td>\n",
       "      <td>18.3</td>\n",
       "      <td>4.32</td>\n",
       "    </tr>\n",
       "    <tr>\n",
       "      <th>365</th>\n",
       "      <td>1.0</td>\n",
       "      <td>4.55587</td>\n",
       "      <td>0.0</td>\n",
       "      <td>18.10</td>\n",
       "      <td>0</td>\n",
       "      <td>0.718</td>\n",
       "      <td>3.561</td>\n",
       "      <td>87.9</td>\n",
       "      <td>1.6132</td>\n",
       "      <td>24</td>\n",
       "      <td>666</td>\n",
       "      <td>20.2</td>\n",
       "      <td>7.12</td>\n",
       "    </tr>\n",
       "    <tr>\n",
       "      <th>...</th>\n",
       "      <td>...</td>\n",
       "      <td>...</td>\n",
       "      <td>...</td>\n",
       "      <td>...</td>\n",
       "      <td>...</td>\n",
       "      <td>...</td>\n",
       "      <td>...</td>\n",
       "      <td>...</td>\n",
       "      <td>...</td>\n",
       "      <td>...</td>\n",
       "      <td>...</td>\n",
       "      <td>...</td>\n",
       "      <td>...</td>\n",
       "    </tr>\n",
       "    <tr>\n",
       "      <th>255</th>\n",
       "      <td>1.0</td>\n",
       "      <td>0.03548</td>\n",
       "      <td>80.0</td>\n",
       "      <td>3.64</td>\n",
       "      <td>0</td>\n",
       "      <td>0.392</td>\n",
       "      <td>5.876</td>\n",
       "      <td>19.1</td>\n",
       "      <td>9.2203</td>\n",
       "      <td>1</td>\n",
       "      <td>315</td>\n",
       "      <td>16.4</td>\n",
       "      <td>9.25</td>\n",
       "    </tr>\n",
       "    <tr>\n",
       "      <th>72</th>\n",
       "      <td>1.0</td>\n",
       "      <td>0.09164</td>\n",
       "      <td>0.0</td>\n",
       "      <td>10.81</td>\n",
       "      <td>0</td>\n",
       "      <td>0.413</td>\n",
       "      <td>6.065</td>\n",
       "      <td>7.8</td>\n",
       "      <td>5.2873</td>\n",
       "      <td>4</td>\n",
       "      <td>305</td>\n",
       "      <td>19.2</td>\n",
       "      <td>5.52</td>\n",
       "    </tr>\n",
       "    <tr>\n",
       "      <th>396</th>\n",
       "      <td>1.0</td>\n",
       "      <td>5.87205</td>\n",
       "      <td>0.0</td>\n",
       "      <td>18.10</td>\n",
       "      <td>0</td>\n",
       "      <td>0.693</td>\n",
       "      <td>6.405</td>\n",
       "      <td>96.0</td>\n",
       "      <td>1.6768</td>\n",
       "      <td>24</td>\n",
       "      <td>666</td>\n",
       "      <td>20.2</td>\n",
       "      <td>19.37</td>\n",
       "    </tr>\n",
       "    <tr>\n",
       "      <th>235</th>\n",
       "      <td>1.0</td>\n",
       "      <td>0.33045</td>\n",
       "      <td>0.0</td>\n",
       "      <td>6.20</td>\n",
       "      <td>0</td>\n",
       "      <td>0.507</td>\n",
       "      <td>6.086</td>\n",
       "      <td>61.5</td>\n",
       "      <td>3.6519</td>\n",
       "      <td>8</td>\n",
       "      <td>307</td>\n",
       "      <td>17.4</td>\n",
       "      <td>10.88</td>\n",
       "    </tr>\n",
       "    <tr>\n",
       "      <th>37</th>\n",
       "      <td>1.0</td>\n",
       "      <td>0.08014</td>\n",
       "      <td>0.0</td>\n",
       "      <td>5.96</td>\n",
       "      <td>0</td>\n",
       "      <td>0.499</td>\n",
       "      <td>5.850</td>\n",
       "      <td>41.5</td>\n",
       "      <td>3.9342</td>\n",
       "      <td>5</td>\n",
       "      <td>279</td>\n",
       "      <td>19.2</td>\n",
       "      <td>8.77</td>\n",
       "    </tr>\n",
       "  </tbody>\n",
       "</table>\n",
       "<p>354 rows × 13 columns</p>\n",
       "</div>"
      ],
      "text/plain": [
       "     const     CRIM    ZN  INDUS  CHAS    NOX     RM   AGE     DIS  RAD  TAX  \\\n",
       "13     1.0  0.62976   0.0   8.14     0  0.538  5.949  61.8  4.7075    4  307   \n",
       "61     1.0  0.17171  25.0   5.13     0  0.453  5.966  93.4  6.8185    8  284   \n",
       "377    1.0  9.82349   0.0  18.10     0  0.671  6.794  98.8  1.3580   24  666   \n",
       "39     1.0  0.02763  75.0   2.95     0  0.428  6.595  21.8  5.4011    3  252   \n",
       "365    1.0  4.55587   0.0  18.10     0  0.718  3.561  87.9  1.6132   24  666   \n",
       "..     ...      ...   ...    ...   ...    ...    ...   ...     ...  ...  ...   \n",
       "255    1.0  0.03548  80.0   3.64     0  0.392  5.876  19.1  9.2203    1  315   \n",
       "72     1.0  0.09164   0.0  10.81     0  0.413  6.065   7.8  5.2873    4  305   \n",
       "396    1.0  5.87205   0.0  18.10     0  0.693  6.405  96.0  1.6768   24  666   \n",
       "235    1.0  0.33045   0.0   6.20     0  0.507  6.086  61.5  3.6519    8  307   \n",
       "37     1.0  0.08014   0.0   5.96     0  0.499  5.850  41.5  3.9342    5  279   \n",
       "\n",
       "     PTRATIO  LSTAT  \n",
       "13      21.0   8.26  \n",
       "61      19.7  14.44  \n",
       "377     20.2  21.24  \n",
       "39      18.3   4.32  \n",
       "365     20.2   7.12  \n",
       "..       ...    ...  \n",
       "255     16.4   9.25  \n",
       "72      19.2   5.52  \n",
       "396     20.2  19.37  \n",
       "235     17.4  10.88  \n",
       "37      19.2   8.77  \n",
       "\n",
       "[354 rows x 13 columns]"
      ]
     },
     "execution_count": 24,
     "metadata": {},
     "output_type": "execute_result"
    }
   ],
   "source": [
    "X_train"
   ]
  },
  {
   "cell_type": "markdown",
   "metadata": {
    "id": "CGhbeT42mEaQ"
   },
   "source": [
    "Next, a check for multicollinearity in the train dataset will be performed."
   ]
  },
  {
   "cell_type": "markdown",
   "metadata": {
    "id": "35V8i1tVRKp5"
   },
   "source": [
    "### Check for Multicollinearity\n",
    "\n",
    "The Variance Inflation Factor (VIF), is used to check if there is multicollinearity in the data.\n",
    "\n",
    "Features having a VIF score > 5 will be dropped/treated till all the features have a VIF score < 5"
   ]
  },
  {
   "cell_type": "code",
   "execution_count": 25,
   "metadata": {
    "colab": {
     "base_uri": "https://localhost:8080/"
    },
    "id": "Dy-mv-XrmEaU",
    "outputId": "13351efd-3eb5-4353-e20f-89dd0b665b86",
    "scrolled": false
   },
   "outputs": [
    {
     "name": "stdout",
     "output_type": "stream",
     "text": [
      "    feature         VIF\n",
      "0     const  535.372593\n",
      "1      CRIM    1.924114\n",
      "2        ZN    2.743574\n",
      "3     INDUS    3.999538\n",
      "4      CHAS    1.076564\n",
      "5       NOX    4.396157\n",
      "6        RM    1.860950\n",
      "7       AGE    3.150170\n",
      "8       DIS    4.355469\n",
      "9       RAD    8.345247\n",
      "10      TAX   10.191941\n",
      "11  PTRATIO    1.943409\n",
      "12    LSTAT    2.861881\n"
     ]
    }
   ],
   "source": [
    "from statsmodels.stats.outliers_influence import variance_inflation_factor\n",
    "\n",
    "# function to check VIF\n",
    "def checking_vif(train):\n",
    "    vif = pd.DataFrame()\n",
    "    vif[\"feature\"] = train.columns\n",
    "\n",
    "    # calculating VIF for each feature\n",
    "    vif[\"VIF\"] = [\n",
    "        variance_inflation_factor(train.values, i) for i in range(len(train.columns))\n",
    "    ]\n",
    "    return vif\n",
    "\n",
    "\n",
    "print(checking_vif(X_train))"
   ]
  },
  {
   "cell_type": "markdown",
   "metadata": {
    "id": "9oPR2ihWmEaU"
   },
   "source": [
    "**Observations:**\n",
    "* There are two variables with a high VIF - RAD and TAX. TAX is removed as it has the highest VIF values and a subsequent check for multicollinearity will be performed again."
   ]
  },
  {
   "cell_type": "code",
   "execution_count": 26,
   "metadata": {},
   "outputs": [
    {
     "data": {
      "text/html": [
       "<div>\n",
       "<style scoped>\n",
       "    .dataframe tbody tr th:only-of-type {\n",
       "        vertical-align: middle;\n",
       "    }\n",
       "\n",
       "    .dataframe tbody tr th {\n",
       "        vertical-align: top;\n",
       "    }\n",
       "\n",
       "    .dataframe thead th {\n",
       "        text-align: right;\n",
       "    }\n",
       "</style>\n",
       "<table border=\"1\" class=\"dataframe\">\n",
       "  <thead>\n",
       "    <tr style=\"text-align: right;\">\n",
       "      <th></th>\n",
       "      <th>const</th>\n",
       "      <th>CRIM</th>\n",
       "      <th>ZN</th>\n",
       "      <th>INDUS</th>\n",
       "      <th>CHAS</th>\n",
       "      <th>NOX</th>\n",
       "      <th>RM</th>\n",
       "      <th>AGE</th>\n",
       "      <th>DIS</th>\n",
       "      <th>RAD</th>\n",
       "      <th>TAX</th>\n",
       "      <th>PTRATIO</th>\n",
       "      <th>LSTAT</th>\n",
       "    </tr>\n",
       "  </thead>\n",
       "  <tbody>\n",
       "    <tr>\n",
       "      <th>13</th>\n",
       "      <td>1.0</td>\n",
       "      <td>0.62976</td>\n",
       "      <td>0.0</td>\n",
       "      <td>8.14</td>\n",
       "      <td>0</td>\n",
       "      <td>0.538</td>\n",
       "      <td>5.949</td>\n",
       "      <td>61.8</td>\n",
       "      <td>4.7075</td>\n",
       "      <td>4</td>\n",
       "      <td>307</td>\n",
       "      <td>21.0</td>\n",
       "      <td>8.26</td>\n",
       "    </tr>\n",
       "    <tr>\n",
       "      <th>61</th>\n",
       "      <td>1.0</td>\n",
       "      <td>0.17171</td>\n",
       "      <td>25.0</td>\n",
       "      <td>5.13</td>\n",
       "      <td>0</td>\n",
       "      <td>0.453</td>\n",
       "      <td>5.966</td>\n",
       "      <td>93.4</td>\n",
       "      <td>6.8185</td>\n",
       "      <td>8</td>\n",
       "      <td>284</td>\n",
       "      <td>19.7</td>\n",
       "      <td>14.44</td>\n",
       "    </tr>\n",
       "    <tr>\n",
       "      <th>377</th>\n",
       "      <td>1.0</td>\n",
       "      <td>9.82349</td>\n",
       "      <td>0.0</td>\n",
       "      <td>18.10</td>\n",
       "      <td>0</td>\n",
       "      <td>0.671</td>\n",
       "      <td>6.794</td>\n",
       "      <td>98.8</td>\n",
       "      <td>1.3580</td>\n",
       "      <td>24</td>\n",
       "      <td>666</td>\n",
       "      <td>20.2</td>\n",
       "      <td>21.24</td>\n",
       "    </tr>\n",
       "    <tr>\n",
       "      <th>39</th>\n",
       "      <td>1.0</td>\n",
       "      <td>0.02763</td>\n",
       "      <td>75.0</td>\n",
       "      <td>2.95</td>\n",
       "      <td>0</td>\n",
       "      <td>0.428</td>\n",
       "      <td>6.595</td>\n",
       "      <td>21.8</td>\n",
       "      <td>5.4011</td>\n",
       "      <td>3</td>\n",
       "      <td>252</td>\n",
       "      <td>18.3</td>\n",
       "      <td>4.32</td>\n",
       "    </tr>\n",
       "    <tr>\n",
       "      <th>365</th>\n",
       "      <td>1.0</td>\n",
       "      <td>4.55587</td>\n",
       "      <td>0.0</td>\n",
       "      <td>18.10</td>\n",
       "      <td>0</td>\n",
       "      <td>0.718</td>\n",
       "      <td>3.561</td>\n",
       "      <td>87.9</td>\n",
       "      <td>1.6132</td>\n",
       "      <td>24</td>\n",
       "      <td>666</td>\n",
       "      <td>20.2</td>\n",
       "      <td>7.12</td>\n",
       "    </tr>\n",
       "    <tr>\n",
       "      <th>...</th>\n",
       "      <td>...</td>\n",
       "      <td>...</td>\n",
       "      <td>...</td>\n",
       "      <td>...</td>\n",
       "      <td>...</td>\n",
       "      <td>...</td>\n",
       "      <td>...</td>\n",
       "      <td>...</td>\n",
       "      <td>...</td>\n",
       "      <td>...</td>\n",
       "      <td>...</td>\n",
       "      <td>...</td>\n",
       "      <td>...</td>\n",
       "    </tr>\n",
       "    <tr>\n",
       "      <th>255</th>\n",
       "      <td>1.0</td>\n",
       "      <td>0.03548</td>\n",
       "      <td>80.0</td>\n",
       "      <td>3.64</td>\n",
       "      <td>0</td>\n",
       "      <td>0.392</td>\n",
       "      <td>5.876</td>\n",
       "      <td>19.1</td>\n",
       "      <td>9.2203</td>\n",
       "      <td>1</td>\n",
       "      <td>315</td>\n",
       "      <td>16.4</td>\n",
       "      <td>9.25</td>\n",
       "    </tr>\n",
       "    <tr>\n",
       "      <th>72</th>\n",
       "      <td>1.0</td>\n",
       "      <td>0.09164</td>\n",
       "      <td>0.0</td>\n",
       "      <td>10.81</td>\n",
       "      <td>0</td>\n",
       "      <td>0.413</td>\n",
       "      <td>6.065</td>\n",
       "      <td>7.8</td>\n",
       "      <td>5.2873</td>\n",
       "      <td>4</td>\n",
       "      <td>305</td>\n",
       "      <td>19.2</td>\n",
       "      <td>5.52</td>\n",
       "    </tr>\n",
       "    <tr>\n",
       "      <th>396</th>\n",
       "      <td>1.0</td>\n",
       "      <td>5.87205</td>\n",
       "      <td>0.0</td>\n",
       "      <td>18.10</td>\n",
       "      <td>0</td>\n",
       "      <td>0.693</td>\n",
       "      <td>6.405</td>\n",
       "      <td>96.0</td>\n",
       "      <td>1.6768</td>\n",
       "      <td>24</td>\n",
       "      <td>666</td>\n",
       "      <td>20.2</td>\n",
       "      <td>19.37</td>\n",
       "    </tr>\n",
       "    <tr>\n",
       "      <th>235</th>\n",
       "      <td>1.0</td>\n",
       "      <td>0.33045</td>\n",
       "      <td>0.0</td>\n",
       "      <td>6.20</td>\n",
       "      <td>0</td>\n",
       "      <td>0.507</td>\n",
       "      <td>6.086</td>\n",
       "      <td>61.5</td>\n",
       "      <td>3.6519</td>\n",
       "      <td>8</td>\n",
       "      <td>307</td>\n",
       "      <td>17.4</td>\n",
       "      <td>10.88</td>\n",
       "    </tr>\n",
       "    <tr>\n",
       "      <th>37</th>\n",
       "      <td>1.0</td>\n",
       "      <td>0.08014</td>\n",
       "      <td>0.0</td>\n",
       "      <td>5.96</td>\n",
       "      <td>0</td>\n",
       "      <td>0.499</td>\n",
       "      <td>5.850</td>\n",
       "      <td>41.5</td>\n",
       "      <td>3.9342</td>\n",
       "      <td>5</td>\n",
       "      <td>279</td>\n",
       "      <td>19.2</td>\n",
       "      <td>8.77</td>\n",
       "    </tr>\n",
       "  </tbody>\n",
       "</table>\n",
       "<p>354 rows × 13 columns</p>\n",
       "</div>"
      ],
      "text/plain": [
       "     const     CRIM    ZN  INDUS  CHAS    NOX     RM   AGE     DIS  RAD  TAX  \\\n",
       "13     1.0  0.62976   0.0   8.14     0  0.538  5.949  61.8  4.7075    4  307   \n",
       "61     1.0  0.17171  25.0   5.13     0  0.453  5.966  93.4  6.8185    8  284   \n",
       "377    1.0  9.82349   0.0  18.10     0  0.671  6.794  98.8  1.3580   24  666   \n",
       "39     1.0  0.02763  75.0   2.95     0  0.428  6.595  21.8  5.4011    3  252   \n",
       "365    1.0  4.55587   0.0  18.10     0  0.718  3.561  87.9  1.6132   24  666   \n",
       "..     ...      ...   ...    ...   ...    ...    ...   ...     ...  ...  ...   \n",
       "255    1.0  0.03548  80.0   3.64     0  0.392  5.876  19.1  9.2203    1  315   \n",
       "72     1.0  0.09164   0.0  10.81     0  0.413  6.065   7.8  5.2873    4  305   \n",
       "396    1.0  5.87205   0.0  18.10     0  0.693  6.405  96.0  1.6768   24  666   \n",
       "235    1.0  0.33045   0.0   6.20     0  0.507  6.086  61.5  3.6519    8  307   \n",
       "37     1.0  0.08014   0.0   5.96     0  0.499  5.850  41.5  3.9342    5  279   \n",
       "\n",
       "     PTRATIO  LSTAT  \n",
       "13      21.0   8.26  \n",
       "61      19.7  14.44  \n",
       "377     20.2  21.24  \n",
       "39      18.3   4.32  \n",
       "365     20.2   7.12  \n",
       "..       ...    ...  \n",
       "255     16.4   9.25  \n",
       "72      19.2   5.52  \n",
       "396     20.2  19.37  \n",
       "235     17.4  10.88  \n",
       "37      19.2   8.77  \n",
       "\n",
       "[354 rows x 13 columns]"
      ]
     },
     "execution_count": 26,
     "metadata": {},
     "output_type": "execute_result"
    }
   ],
   "source": [
    "X_train"
   ]
  },
  {
   "cell_type": "code",
   "execution_count": 27,
   "metadata": {
    "id": "HD8YQ9GlRKp5",
    "scrolled": true
   },
   "outputs": [
    {
     "name": "stdout",
     "output_type": "stream",
     "text": [
      "    feature         VIF\n",
      "0     const  532.025529\n",
      "1      CRIM    1.923159\n",
      "2        ZN    2.483399\n",
      "3     INDUS    3.270983\n",
      "4      CHAS    1.050708\n",
      "5       NOX    4.361847\n",
      "6        RM    1.857918\n",
      "7       AGE    3.149005\n",
      "8       DIS    4.333734\n",
      "9       RAD    2.942862\n",
      "10  PTRATIO    1.909750\n",
      "11    LSTAT    2.860251\n"
     ]
    }
   ],
   "source": [
    "# create the model after dropping TAX\n",
    "X_train = X_train.drop(columns = {'TAX'}) #Write your code here\n",
    "\n",
    "# check for VIF\n",
    "print(checking_vif(X_train))"
   ]
  },
  {
   "cell_type": "markdown",
   "metadata": {
    "id": "bPxryqE7RKp6"
   },
   "source": [
    "Next step will be creation of the linear regression model as the VIF is less than 5 for all the independent variables, and it can be assumed that multicollinearity has been removed between the variables."
   ]
  },
  {
   "cell_type": "code",
   "execution_count": 28,
   "metadata": {
    "scrolled": true
   },
   "outputs": [
    {
     "data": {
      "text/html": [
       "<div>\n",
       "<style scoped>\n",
       "    .dataframe tbody tr th:only-of-type {\n",
       "        vertical-align: middle;\n",
       "    }\n",
       "\n",
       "    .dataframe tbody tr th {\n",
       "        vertical-align: top;\n",
       "    }\n",
       "\n",
       "    .dataframe thead th {\n",
       "        text-align: right;\n",
       "    }\n",
       "</style>\n",
       "<table border=\"1\" class=\"dataframe\">\n",
       "  <thead>\n",
       "    <tr style=\"text-align: right;\">\n",
       "      <th></th>\n",
       "      <th>const</th>\n",
       "      <th>CRIM</th>\n",
       "      <th>ZN</th>\n",
       "      <th>INDUS</th>\n",
       "      <th>CHAS</th>\n",
       "      <th>NOX</th>\n",
       "      <th>RM</th>\n",
       "      <th>AGE</th>\n",
       "      <th>DIS</th>\n",
       "      <th>RAD</th>\n",
       "      <th>PTRATIO</th>\n",
       "      <th>LSTAT</th>\n",
       "    </tr>\n",
       "  </thead>\n",
       "  <tbody>\n",
       "    <tr>\n",
       "      <th>13</th>\n",
       "      <td>1.0</td>\n",
       "      <td>0.62976</td>\n",
       "      <td>0.0</td>\n",
       "      <td>8.14</td>\n",
       "      <td>0</td>\n",
       "      <td>0.538</td>\n",
       "      <td>5.949</td>\n",
       "      <td>61.8</td>\n",
       "      <td>4.7075</td>\n",
       "      <td>4</td>\n",
       "      <td>21.0</td>\n",
       "      <td>8.26</td>\n",
       "    </tr>\n",
       "    <tr>\n",
       "      <th>61</th>\n",
       "      <td>1.0</td>\n",
       "      <td>0.17171</td>\n",
       "      <td>25.0</td>\n",
       "      <td>5.13</td>\n",
       "      <td>0</td>\n",
       "      <td>0.453</td>\n",
       "      <td>5.966</td>\n",
       "      <td>93.4</td>\n",
       "      <td>6.8185</td>\n",
       "      <td>8</td>\n",
       "      <td>19.7</td>\n",
       "      <td>14.44</td>\n",
       "    </tr>\n",
       "    <tr>\n",
       "      <th>377</th>\n",
       "      <td>1.0</td>\n",
       "      <td>9.82349</td>\n",
       "      <td>0.0</td>\n",
       "      <td>18.10</td>\n",
       "      <td>0</td>\n",
       "      <td>0.671</td>\n",
       "      <td>6.794</td>\n",
       "      <td>98.8</td>\n",
       "      <td>1.3580</td>\n",
       "      <td>24</td>\n",
       "      <td>20.2</td>\n",
       "      <td>21.24</td>\n",
       "    </tr>\n",
       "    <tr>\n",
       "      <th>39</th>\n",
       "      <td>1.0</td>\n",
       "      <td>0.02763</td>\n",
       "      <td>75.0</td>\n",
       "      <td>2.95</td>\n",
       "      <td>0</td>\n",
       "      <td>0.428</td>\n",
       "      <td>6.595</td>\n",
       "      <td>21.8</td>\n",
       "      <td>5.4011</td>\n",
       "      <td>3</td>\n",
       "      <td>18.3</td>\n",
       "      <td>4.32</td>\n",
       "    </tr>\n",
       "    <tr>\n",
       "      <th>365</th>\n",
       "      <td>1.0</td>\n",
       "      <td>4.55587</td>\n",
       "      <td>0.0</td>\n",
       "      <td>18.10</td>\n",
       "      <td>0</td>\n",
       "      <td>0.718</td>\n",
       "      <td>3.561</td>\n",
       "      <td>87.9</td>\n",
       "      <td>1.6132</td>\n",
       "      <td>24</td>\n",
       "      <td>20.2</td>\n",
       "      <td>7.12</td>\n",
       "    </tr>\n",
       "    <tr>\n",
       "      <th>...</th>\n",
       "      <td>...</td>\n",
       "      <td>...</td>\n",
       "      <td>...</td>\n",
       "      <td>...</td>\n",
       "      <td>...</td>\n",
       "      <td>...</td>\n",
       "      <td>...</td>\n",
       "      <td>...</td>\n",
       "      <td>...</td>\n",
       "      <td>...</td>\n",
       "      <td>...</td>\n",
       "      <td>...</td>\n",
       "    </tr>\n",
       "    <tr>\n",
       "      <th>255</th>\n",
       "      <td>1.0</td>\n",
       "      <td>0.03548</td>\n",
       "      <td>80.0</td>\n",
       "      <td>3.64</td>\n",
       "      <td>0</td>\n",
       "      <td>0.392</td>\n",
       "      <td>5.876</td>\n",
       "      <td>19.1</td>\n",
       "      <td>9.2203</td>\n",
       "      <td>1</td>\n",
       "      <td>16.4</td>\n",
       "      <td>9.25</td>\n",
       "    </tr>\n",
       "    <tr>\n",
       "      <th>72</th>\n",
       "      <td>1.0</td>\n",
       "      <td>0.09164</td>\n",
       "      <td>0.0</td>\n",
       "      <td>10.81</td>\n",
       "      <td>0</td>\n",
       "      <td>0.413</td>\n",
       "      <td>6.065</td>\n",
       "      <td>7.8</td>\n",
       "      <td>5.2873</td>\n",
       "      <td>4</td>\n",
       "      <td>19.2</td>\n",
       "      <td>5.52</td>\n",
       "    </tr>\n",
       "    <tr>\n",
       "      <th>396</th>\n",
       "      <td>1.0</td>\n",
       "      <td>5.87205</td>\n",
       "      <td>0.0</td>\n",
       "      <td>18.10</td>\n",
       "      <td>0</td>\n",
       "      <td>0.693</td>\n",
       "      <td>6.405</td>\n",
       "      <td>96.0</td>\n",
       "      <td>1.6768</td>\n",
       "      <td>24</td>\n",
       "      <td>20.2</td>\n",
       "      <td>19.37</td>\n",
       "    </tr>\n",
       "    <tr>\n",
       "      <th>235</th>\n",
       "      <td>1.0</td>\n",
       "      <td>0.33045</td>\n",
       "      <td>0.0</td>\n",
       "      <td>6.20</td>\n",
       "      <td>0</td>\n",
       "      <td>0.507</td>\n",
       "      <td>6.086</td>\n",
       "      <td>61.5</td>\n",
       "      <td>3.6519</td>\n",
       "      <td>8</td>\n",
       "      <td>17.4</td>\n",
       "      <td>10.88</td>\n",
       "    </tr>\n",
       "    <tr>\n",
       "      <th>37</th>\n",
       "      <td>1.0</td>\n",
       "      <td>0.08014</td>\n",
       "      <td>0.0</td>\n",
       "      <td>5.96</td>\n",
       "      <td>0</td>\n",
       "      <td>0.499</td>\n",
       "      <td>5.850</td>\n",
       "      <td>41.5</td>\n",
       "      <td>3.9342</td>\n",
       "      <td>5</td>\n",
       "      <td>19.2</td>\n",
       "      <td>8.77</td>\n",
       "    </tr>\n",
       "  </tbody>\n",
       "</table>\n",
       "<p>354 rows × 12 columns</p>\n",
       "</div>"
      ],
      "text/plain": [
       "     const     CRIM    ZN  INDUS  CHAS    NOX     RM   AGE     DIS  RAD  \\\n",
       "13     1.0  0.62976   0.0   8.14     0  0.538  5.949  61.8  4.7075    4   \n",
       "61     1.0  0.17171  25.0   5.13     0  0.453  5.966  93.4  6.8185    8   \n",
       "377    1.0  9.82349   0.0  18.10     0  0.671  6.794  98.8  1.3580   24   \n",
       "39     1.0  0.02763  75.0   2.95     0  0.428  6.595  21.8  5.4011    3   \n",
       "365    1.0  4.55587   0.0  18.10     0  0.718  3.561  87.9  1.6132   24   \n",
       "..     ...      ...   ...    ...   ...    ...    ...   ...     ...  ...   \n",
       "255    1.0  0.03548  80.0   3.64     0  0.392  5.876  19.1  9.2203    1   \n",
       "72     1.0  0.09164   0.0  10.81     0  0.413  6.065   7.8  5.2873    4   \n",
       "396    1.0  5.87205   0.0  18.10     0  0.693  6.405  96.0  1.6768   24   \n",
       "235    1.0  0.33045   0.0   6.20     0  0.507  6.086  61.5  3.6519    8   \n",
       "37     1.0  0.08014   0.0   5.96     0  0.499  5.850  41.5  3.9342    5   \n",
       "\n",
       "     PTRATIO  LSTAT  \n",
       "13      21.0   8.26  \n",
       "61      19.7  14.44  \n",
       "377     20.2  21.24  \n",
       "39      18.3   4.32  \n",
       "365     20.2   7.12  \n",
       "..       ...    ...  \n",
       "255     16.4   9.25  \n",
       "72      19.2   5.52  \n",
       "396     20.2  19.37  \n",
       "235     17.4  10.88  \n",
       "37      19.2   8.77  \n",
       "\n",
       "[354 rows x 12 columns]"
      ]
     },
     "execution_count": 28,
     "metadata": {},
     "output_type": "execute_result"
    }
   ],
   "source": [
    "X_train"
   ]
  },
  {
   "cell_type": "code",
   "execution_count": 29,
   "metadata": {
    "scrolled": false
   },
   "outputs": [
    {
     "data": {
      "text/plain": [
       "13     3.015535\n",
       "61     2.772589\n",
       "377    2.587764\n",
       "39     3.427515\n",
       "365    3.314186\n",
       "         ...   \n",
       "255    3.039749\n",
       "72     3.126761\n",
       "396    2.525729\n",
       "235    3.178054\n",
       "37     3.044522\n",
       "Name: MEDV_log, Length: 354, dtype: float64"
      ]
     },
     "execution_count": 29,
     "metadata": {},
     "output_type": "execute_result"
    }
   ],
   "source": [
    "Y_train"
   ]
  },
  {
   "cell_type": "code",
   "execution_count": 30,
   "metadata": {
    "id": "jwDjEfcBjyV7",
    "scrolled": true
   },
   "outputs": [
    {
     "name": "stdout",
     "output_type": "stream",
     "text": [
      "                            OLS Regression Results                            \n",
      "==============================================================================\n",
      "Dep. Variable:               MEDV_log   R-squared:                       0.769\n",
      "Model:                            OLS   Adj. R-squared:                  0.761\n",
      "Method:                 Least Squares   F-statistic:                     103.3\n",
      "Date:                Wed, 29 Dec 2021   Prob (F-statistic):          1.40e-101\n",
      "Time:                        15:17:01   Log-Likelihood:                 76.596\n",
      "No. Observations:                 354   AIC:                            -129.2\n",
      "Df Residuals:                     342   BIC:                            -82.76\n",
      "Df Model:                          11                                         \n",
      "Covariance Type:            nonrobust                                         \n",
      "==============================================================================\n",
      "                 coef    std err          t      P>|t|      [0.025      0.975]\n",
      "------------------------------------------------------------------------------\n",
      "const          4.6324      0.243     19.057      0.000       4.154       5.111\n",
      "CRIM          -0.0128      0.002     -7.445      0.000      -0.016      -0.009\n",
      "ZN             0.0010      0.001      1.425      0.155      -0.000       0.002\n",
      "INDUS         -0.0004      0.003     -0.148      0.883      -0.006       0.005\n",
      "CHAS           0.1196      0.039      3.082      0.002       0.043       0.196\n",
      "NOX           -1.0598      0.187     -5.675      0.000      -1.427      -0.692\n",
      "RM             0.0532      0.021      2.560      0.011       0.012       0.094\n",
      "AGE            0.0003      0.001      0.461      0.645      -0.001       0.002\n",
      "DIS           -0.0503      0.010     -4.894      0.000      -0.071      -0.030\n",
      "RAD            0.0076      0.002      3.699      0.000       0.004       0.012\n",
      "PTRATIO       -0.0452      0.007     -6.659      0.000      -0.059      -0.032\n",
      "LSTAT         -0.0298      0.002    -12.134      0.000      -0.035      -0.025\n",
      "==============================================================================\n",
      "Omnibus:                       30.699   Durbin-Watson:                   1.923\n",
      "Prob(Omnibus):                  0.000   Jarque-Bera (JB):               83.718\n",
      "Skew:                           0.372   Prob(JB):                     6.62e-19\n",
      "Kurtosis:                       5.263   Cond. No.                     2.09e+03\n",
      "==============================================================================\n",
      "\n",
      "Notes:\n",
      "[1] Standard Errors assume that the covariance matrix of the errors is correctly specified.\n",
      "[2] The condition number is large, 2.09e+03. This might indicate that there are\n",
      "strong multicollinearity or other numerical problems.\n"
     ]
    }
   ],
   "source": [
    "# create the model\n",
    "model1 = sm.OLS(Y_train, X_train)#write your code here\n",
    "results = model1.fit()\n",
    "\n",
    "# get the model summary\n",
    "print(results.summary())\n"
   ]
  },
  {
   "cell_type": "markdown",
   "metadata": {
    "id": "Yde7rQQWRAjU"
   },
   "source": [
    "**Observations:_____**\n",
    "\n",
    "* The R-squared = 0.769, which is a fairly good fit for the first run of the regression model when consdering the data.  This indicates we have accounted for 76.9% of the variance in the data with our first model.\n",
    "* Not all coefficients are significant - CRIM, CHAS, NOX, RM, DIS, RAD, PTRATIO and LSTAT are all p < .005, while ZN, INDUS and AGE are not significant and should be removed.  \n",
    "* Larger coefficients with smaller SE (more accurate) have a greater impact on the Y-output (target).  NOX has the largest coefficient followed by CHAS.  "
   ]
  },
  {
   "cell_type": "markdown",
   "metadata": {
    "id": "-QIZkgXLmEaU"
   },
   "source": [
    "### Examining the significance of the model\n",
    "\n",
    "In the next step it is necessary to check whether all the regression coefficients are significant or not. Significance here means whether the population regression parameters are significantly different from zero. \n",
    "\n",
    "From the above it may be noted that the regression coefficients corresponding to ZN, AGE, and INDUS are not statistically significant at level α = 0.05. In other words, the regression coefficients corresponding to these three are not significantly different from 0 in the population. Thus, these three features will be eliminated and a new model will be created."
   ]
  },
  {
   "cell_type": "code",
   "execution_count": 31,
   "metadata": {
    "id": "MwsYfoPtRKp7",
    "scrolled": false
   },
   "outputs": [
    {
     "name": "stdout",
     "output_type": "stream",
     "text": [
      "                            OLS Regression Results                            \n",
      "==============================================================================\n",
      "Dep. Variable:               MEDV_log   R-squared:                       0.767\n",
      "Model:                            OLS   Adj. R-squared:                  0.762\n",
      "Method:                 Least Squares   F-statistic:                     142.1\n",
      "Date:                Wed, 29 Dec 2021   Prob (F-statistic):          2.61e-104\n",
      "Time:                        15:18:38   Log-Likelihood:                 75.486\n",
      "No. Observations:                 354   AIC:                            -133.0\n",
      "Df Residuals:                     345   BIC:                            -98.15\n",
      "Df Model:                           8                                         \n",
      "Covariance Type:            nonrobust                                         \n",
      "==============================================================================\n",
      "                 coef    std err          t      P>|t|      [0.025      0.975]\n",
      "------------------------------------------------------------------------------\n",
      "const          4.6494      0.242     19.242      0.000       4.174       5.125\n",
      "CRIM          -0.0125      0.002     -7.349      0.000      -0.016      -0.009\n",
      "CHAS           0.1198      0.039      3.093      0.002       0.044       0.196\n",
      "NOX           -1.0562      0.168     -6.296      0.000      -1.386      -0.726\n",
      "RM             0.0589      0.020      2.928      0.004       0.019       0.098\n",
      "DIS           -0.0441      0.008     -5.561      0.000      -0.060      -0.028\n",
      "RAD            0.0078      0.002      3.890      0.000       0.004       0.012\n",
      "PTRATIO       -0.0485      0.006     -7.832      0.000      -0.061      -0.036\n",
      "LSTAT         -0.0293      0.002    -12.949      0.000      -0.034      -0.025\n",
      "==============================================================================\n",
      "Omnibus:                       32.514   Durbin-Watson:                   1.925\n",
      "Prob(Omnibus):                  0.000   Jarque-Bera (JB):               87.354\n",
      "Skew:                           0.408   Prob(JB):                     1.07e-19\n",
      "Kurtosis:                       5.293   Cond. No.                         690.\n",
      "==============================================================================\n",
      "\n",
      "Notes:\n",
      "[1] Standard Errors assume that the covariance matrix of the errors is correctly specified.\n"
     ]
    }
   ],
   "source": [
    "# create the model after dropping columns 'MEDV', 'MEDV_log', 'TAX', 'ZN', 'AGE', 'INDUS' from df dataframe\n",
    "Y = df['MEDV_log']\n",
    "X = df.drop(columns = {'MEDV', 'MEDV_log', 'TAX', 'ZN', 'AGE', 'INDUS'}) #write your code here\n",
    "X = sm.add_constant(X)\n",
    "\n",
    "#splitting the data in 70:30 ratio of train to test data\n",
    "X_train, X_test, Y_train, Y_test = train_test_split(X, Y, test_size=0.30 , random_state=1)\n",
    "\n",
    "# create the model\n",
    "model2 = sm.OLS(Y_train, X_train) #write your code here\n",
    "results2 = model2.fit()\n",
    "\n",
    "# get the model summary\n",
    "print(results2.summary())\n"
   ]
  },
  {
   "cell_type": "markdown",
   "metadata": {
    "id": "5itYQa0zwtPa"
   },
   "source": [
    "**Observations:**\n",
    "* It is observed that the **R-squared value has decreased by 0.002**, since we have removed variables from the model, whereas the **adjusted R-squared value has increased by 0.001**, since we removed statistically insignificant variables only."
   ]
  },
  {
   "cell_type": "markdown",
   "metadata": {
    "id": "vnntdbE8RKp8"
   },
   "source": [
    "Next, the linear regression assumptions will be checked."
   ]
  },
  {
   "cell_type": "markdown",
   "metadata": {
    "id": "LRxnpWg3mEaR"
   },
   "source": [
    "### Check the below linear regression assumptions\n",
    "\n",
    "1. **Mean of residuals should be 0**\n",
    "2. **No Heteroscedasticity**\n",
    "3. **Linearity of variables**\n",
    "4. **Normality of error terms**"
   ]
  },
  {
   "cell_type": "markdown",
   "metadata": {
    "id": "-QAPpLhrmEaV"
   },
   "source": [
    "#### Check for mean residuals"
   ]
  },
  {
   "cell_type": "code",
   "execution_count": 32,
   "metadata": {
    "id": "FeCX4j8vmEaV",
    "scrolled": true
   },
   "outputs": [
    {
     "data": {
      "text/plain": [
       "-5.5837318447531885e-15"
      ]
     },
     "execution_count": 32,
     "metadata": {},
     "output_type": "execute_result"
    }
   ],
   "source": [
    "# Write your code here\n",
    "\n",
    "residuals = results2.resid\n",
    "residuals.mean()"
   ]
  },
  {
   "cell_type": "markdown",
   "metadata": {
    "id": "NvYEVyfQRAjh"
   },
   "source": [
    "**Observations:**\n",
    "* The mean of the residuals is very close to 0 (-0.000000000006254), so this assumtion has not been violated and clears the test."
   ]
  },
  {
   "cell_type": "markdown",
   "metadata": {
    "id": "df7sEIL0mEaW"
   },
   "source": [
    "#### Check for homoscedasticity"
   ]
  },
  {
   "cell_type": "markdown",
   "metadata": {
    "id": "StSElLVFRKp9"
   },
   "source": [
    "* Homoscedasticity - If the residuals are symmetrically distributed across the regression line, then the data is said to homoscedastic.\n",
    "\n",
    "* Heteroscedasticity - If the residuals are not symmetrically distributed across the regression line, then the data is said to be heteroscedastic. In this case, the residuals can form a funnel shape or any other non-symmetrical shape.\n",
    "\n",
    "* The `Goldfeldquandt Test` will be used to test the following hypothesis with alpha = 0.05:\n",
    "\n",
    "    - Null hypothesis: Residuals are homoscedastic\n",
    "    - Alternate hypothesis: Residuals have heteroscedastic"
   ]
  },
  {
   "cell_type": "code",
   "execution_count": 33,
   "metadata": {
    "id": "_4as-Efdd2Fn"
   },
   "outputs": [],
   "source": [
    "from statsmodels.stats.diagnostic import het_white\n",
    "from statsmodels.compat import lzip\n",
    "import statsmodels.stats.api as sms"
   ]
  },
  {
   "cell_type": "code",
   "execution_count": 34,
   "metadata": {
    "id": "kpFfPIdkmEaW"
   },
   "outputs": [
    {
     "data": {
      "text/plain": [
       "[('F statistic', 1.0835082923425283), ('p-value', 0.3019012006766869)]"
      ]
     },
     "execution_count": 34,
     "metadata": {},
     "output_type": "execute_result"
    }
   ],
   "source": [
    "name = [\"F statistic\", \"p-value\"]\n",
    "test = sms.het_goldfeldquandt(Y_train, X_train)\n",
    "lzip(name, test)\n"
   ]
  },
  {
   "cell_type": "markdown",
   "metadata": {
    "id": "1TPhzwu6RAjm"
   },
   "source": [
    "**Observations:**\n",
    "* Because the p-value of the Goldfeldquandt Test is greater than 0.05, we fail to reject the null hypothesis.  Therefore, the residuals are homoscedastic and this assumption can be made."
   ]
  },
  {
   "cell_type": "markdown",
   "metadata": {
    "id": "UzbnPofwmEaX"
   },
   "source": [
    "#### Linearity of variables\n",
    "\n",
    "It states that the predictor variables must have a linear relation with the dependent variable.\n",
    "\n",
    "To test the assumption, we'll plot residuals and fitted values on a plot and ensure that residuals do not form a strong pattern. They should be randomly and uniformly scattered on the x-axis."
   ]
  },
  {
   "cell_type": "code",
   "execution_count": 35,
   "metadata": {
    "colab": {
     "base_uri": "https://localhost:8080/",
     "height": 295
    },
    "id": "UxjY8jyKmEaX",
    "outputId": "6226e309-cb8e-44b5-d961-bb6154949949",
    "scrolled": true
   },
   "outputs": [
    {
     "data": {
      "image/png": "[encoded data removed]",
      "text/plain": [
       "<Figure size 432x288 with 1 Axes>"
      ]
     },
     "metadata": {
      "needs_background": "light"
     },
     "output_type": "display_data"
    }
   ],
   "source": [
    "# predicted values\n",
    "fitted = results2.fittedvalues\n",
    "residua1 = results2.resid\n",
    "\n",
    "# sns.set_style(\"whitegrid\")\n",
    "sns.residplot(x = fitted, y = residua1, color=\"lightblue\", lowess=True) #write your code here\n",
    "plt.xlabel(\"Fitted Values\")\n",
    "plt.ylabel(\"Residual\")\n",
    "plt.title(\"Residual PLOT\")\n",
    "plt.show()"
   ]
  },
  {
   "cell_type": "markdown",
   "metadata": {
    "id": "rYWMZchHmEaX"
   },
   "source": [
    "**Observations:**\n",
    "* Residuals are scattered about the mean of 0 in a random fashion, therefore the assumption of linearity is satisfied."
   ]
  },
  {
   "cell_type": "markdown",
   "metadata": {
    "id": "s1UAjPqMmEaX"
   },
   "source": [
    "#### Normality of error terms\n",
    "The residuals should be normally distributed."
   ]
  },
  {
   "cell_type": "code",
   "execution_count": 36,
   "metadata": {
    "id": "ZFHf71ewmEaX",
    "scrolled": true
   },
   "outputs": [
    {
     "data": {
      "text/plain": [
       "<AxesSubplot:ylabel='Count'>"
      ]
     },
     "execution_count": 36,
     "metadata": {},
     "output_type": "execute_result"
    },
    {
     "data": {
      "image/png": "[encoded data removed]",
      "text/plain": [
       "<Figure size 432x288 with 1 Axes>"
      ]
     },
     "metadata": {
      "needs_background": "light"
     },
     "output_type": "display_data"
    }
   ],
   "source": [
    "# Plot histogram of residuals\n",
    "sns.histplot(residuals, kde=True)#write your code here"
   ]
  },
  {
   "cell_type": "code",
   "execution_count": 37,
   "metadata": {
    "colab": {
     "base_uri": "https://localhost:8080/",
     "height": 295
    },
    "id": "8aVhzXhEmEaY",
    "outputId": "4f867523-0e7c-410b-804b-158448e04367",
    "scrolled": true
   },
   "outputs": [
    {
     "data": {
      "image/png": "[encoded data removed]",
      "text/plain": [
       "<Figure size 432x288 with 1 Axes>"
      ]
     },
     "metadata": {
      "needs_background": "light"
     },
     "output_type": "display_data"
    }
   ],
   "source": [
    "# Plot q-q plot of residuals\n",
    "import pylab\n",
    "import scipy.stats as stats\n",
    "\n",
    "stats.probplot(residuals, dist=\"norm\", plot=pylab)\n",
    "plt.show()"
   ]
  },
  {
   "cell_type": "markdown",
   "metadata": {
    "id": "bPo9UIlgRKp-"
   },
   "source": [
    "**Observations:**\n",
    "* The assumption of normality is satisfied due to the normal distribution displayed from the histogram of the residuals.\n",
    "* In addition the Q-Q plot of the quantiles of residuals plotted against each other shows a tight linear cluster.  This adds further support for satisfying the assumption of normality."
   ]
  },
  {
   "cell_type": "markdown",
   "metadata": {
    "id": "Q8q-edLJmEaR"
   },
   "source": [
    "### Check the performance of the model on the train and test data set"
   ]
  },
  {
   "cell_type": "code",
   "execution_count": 38,
   "metadata": {
    "colab": {
     "base_uri": "https://localhost:8080/"
    },
    "id": "b5_l2YusmEaR",
    "outputId": "32951568-7fc9-4e6f-c6ea-06a7d46f8c66",
    "scrolled": true
   },
   "outputs": [
    {
     "name": "stdout",
     "output_type": "stream",
     "text": [
      "    Data      RMSE       MAE      MAPE\n",
      "0  Train  0.195504  0.143686  4.981813\n",
      "1   Test  0.198045  0.151284  5.257965\n"
     ]
    }
   ],
   "source": [
    "# RMSE\n",
    "def rmse(predictions, targets):\n",
    "    return np.sqrt(((targets - predictions) ** 2).mean())\n",
    "\n",
    "# MAPE\n",
    "def mape(predictions, targets):\n",
    "    return np.mean(np.abs((targets - predictions)) / targets) * 100\n",
    "\n",
    "# MAE\n",
    "def mae(predictions, targets):\n",
    "    return np.mean(np.abs((targets - predictions)))\n",
    "\n",
    "# Model Performance on test and train data\n",
    "def model_pref(olsmodel, X_train, X_test):\n",
    "\n",
    "    # In-sample Prediction\n",
    "    y_pred_train = olsmodel.predict(X_train)\n",
    "    y_observed_train = Y_train\n",
    "\n",
    "    # Prediction on test data\n",
    "    y_pred_test = olsmodel.predict(X_test)\n",
    "    y_observed_test = Y_test\n",
    "\n",
    "    print(\n",
    "        pd.DataFrame(\n",
    "            {\n",
    "                \"Data\": [\"Train\", \"Test\"],\n",
    "                \"RMSE\": [\n",
    "                    rmse(y_pred_train, y_observed_train),\n",
    "                    rmse(y_pred_test, y_observed_test),\n",
    "                ],\n",
    "                \"MAE\": [\n",
    "                    mae(y_pred_train, y_observed_train),\n",
    "                    mae(y_pred_test, y_observed_test),\n",
    "                ],\n",
    "                \"MAPE\": [\n",
    "                    mape(y_pred_train, y_observed_train),\n",
    "                    mape(y_pred_test, y_observed_test),\n",
    "                ],\n",
    "            }\n",
    "        )\n",
    "    )\n",
    "\n",
    "\n",
    "# Checking model performance\n",
    "model_pref(results2, X_train, X_test)  "
   ]
  },
  {
   "cell_type": "markdown",
   "metadata": {
    "id": "nf9MNVkFRAjy"
   },
   "source": [
    "**Observations:**\n",
    "\n",
    "* These model performace values measure the overall difference between the predicted and observed in each model. \n",
    "* RMSE evaluates the square root of the standard deviation of the residuals.  \n",
    "* MAE is the mean of the absolute errors of the residuals. \n",
    "* MAPE is the mean absolute percentage difference between the actual and predicted values.  \n",
    "* The smaller these values the better the performance.  \n",
    "* Overall comparison of these metrics indicate that the test data performed slightly less well than the train data as the values are slightly higher, however the performace is very similar.\n",
    "* Our model performed similarly well on our test data as the model performed on our training data.  "
   ]
  },
  {
   "cell_type": "markdown",
   "metadata": {
    "id": "WexM8Ae2RKp_"
   },
   "source": [
    "#### Apply cross validation to improve the model and evaluate it using different evaluation metrics"
   ]
  },
  {
   "cell_type": "code",
   "execution_count": 39,
   "metadata": {
    "id": "rxh0bcTbRKp_"
   },
   "outputs": [
    {
     "name": "stdout",
     "output_type": "stream",
     "text": [
      "RSquared: 0.729 (+/- 0.232)\n",
      "Mean Squared Error: 0.041 (+/- 0.023)\n"
     ]
    }
   ],
   "source": [
    "# import the required function\n",
    "\n",
    "from sklearn.model_selection import cross_val_score\n",
    "\n",
    "# build the regression model and cross-validate\n",
    "linearregression = LinearRegression()                                    \n",
    "\n",
    "cv_Score11 = cross_val_score(linearregression, X_train, Y_train, cv = 10) #write your code here\n",
    "cv_Score12 = cross_val_score(linearregression, X_train, Y_train, cv = 10, scoring = 'neg_mean_squared_error') #write your code here                                \n",
    "\n",
    "\n",
    "print(\"RSquared: %0.3f (+/- %0.3f)\" % (cv_Score11.mean(), cv_Score11.std() * 2))\n",
    "print(\"Mean Squared Error: %0.3f (+/- %0.3f)\" % (-1*cv_Score12.mean(), cv_Score12.std() * 2))"
   ]
  },
  {
   "cell_type": "markdown",
   "metadata": {
    "id": "wGlElmnMRKp_"
   },
   "source": [
    "**Observations**\n",
    "- The R-squared on the cross validation is 0.729, whereas on the training dataset it was 0.769\n",
    "- And the MSE on cross validation is 0.041, whereas on the training dataset it was 0.038"
   ]
  },
  {
   "cell_type": "markdown",
   "metadata": {
    "id": "qWlw3A04RKp_"
   },
   "source": [
    "We may want to reiterate the model building process again with new features or better feature engineering to increase the R-squared and decrease the MSE on cross validation."
   ]
  },
  {
   "cell_type": "code",
   "execution_count": 40,
   "metadata": {
    "id": "MqgvS0SXHTRW",
    "scrolled": false
   },
   "outputs": [
    {
     "data": {
      "text/html": [
       "<div>\n",
       "<style scoped>\n",
       "    .dataframe tbody tr th:only-of-type {\n",
       "        vertical-align: middle;\n",
       "    }\n",
       "\n",
       "    .dataframe tbody tr th {\n",
       "        vertical-align: top;\n",
       "    }\n",
       "\n",
       "    .dataframe thead th {\n",
       "        text-align: right;\n",
       "    }\n",
       "</style>\n",
       "<table border=\"1\" class=\"dataframe\">\n",
       "  <thead>\n",
       "    <tr style=\"text-align: right;\">\n",
       "      <th></th>\n",
       "      <th>Feature</th>\n",
       "      <th>Coeff</th>\n",
       "    </tr>\n",
       "  </thead>\n",
       "  <tbody>\n",
       "    <tr>\n",
       "      <th>0</th>\n",
       "      <td>const</td>\n",
       "      <td>4.649386</td>\n",
       "    </tr>\n",
       "    <tr>\n",
       "      <th>1</th>\n",
       "      <td>CRIM</td>\n",
       "      <td>-0.012500</td>\n",
       "    </tr>\n",
       "    <tr>\n",
       "      <th>2</th>\n",
       "      <td>CHAS</td>\n",
       "      <td>0.119773</td>\n",
       "    </tr>\n",
       "    <tr>\n",
       "      <th>3</th>\n",
       "      <td>NOX</td>\n",
       "      <td>-1.056225</td>\n",
       "    </tr>\n",
       "    <tr>\n",
       "      <th>4</th>\n",
       "      <td>RM</td>\n",
       "      <td>0.058907</td>\n",
       "    </tr>\n",
       "    <tr>\n",
       "      <th>5</th>\n",
       "      <td>DIS</td>\n",
       "      <td>-0.044069</td>\n",
       "    </tr>\n",
       "    <tr>\n",
       "      <th>6</th>\n",
       "      <td>RAD</td>\n",
       "      <td>0.007848</td>\n",
       "    </tr>\n",
       "    <tr>\n",
       "      <th>7</th>\n",
       "      <td>PTRATIO</td>\n",
       "      <td>-0.048504</td>\n",
       "    </tr>\n",
       "    <tr>\n",
       "      <th>8</th>\n",
       "      <td>LSTAT</td>\n",
       "      <td>-0.029277</td>\n",
       "    </tr>\n",
       "  </tbody>\n",
       "</table>\n",
       "</div>"
      ],
      "text/plain": [
       "   Feature     Coeff\n",
       "0    const  4.649386\n",
       "1     CRIM -0.012500\n",
       "2     CHAS  0.119773\n",
       "3      NOX -1.056225\n",
       "4       RM  0.058907\n",
       "5      DIS -0.044069\n",
       "6      RAD  0.007848\n",
       "7  PTRATIO -0.048504\n",
       "8    LSTAT -0.029277"
      ]
     },
     "execution_count": 40,
     "metadata": {},
     "output_type": "execute_result"
    }
   ],
   "source": [
    "#getting the coefficients from the model\n",
    "model = sm.OLS(Y_train, X_train)\n",
    "results = model.fit()\n",
    "results.params\n",
    "coef = results.params\n",
    "\n",
    "# Create the pandas DataFrame\n",
    "df_coef = pd.DataFrame(coef).reset_index()\n",
    "df_coef.columns = ['Feature', 'Coeff']\n",
    "\n",
    "# print dataframe.\n",
    "df_coef\n"
   ]
  },
  {
   "cell_type": "code",
   "execution_count": 41,
   "metadata": {
    "scrolled": false
   },
   "outputs": [
    {
     "data": {
      "text/plain": [
       "[4.649385823266646,\n",
       " -0.012500455079103658,\n",
       " 0.11977319077019757,\n",
       " -1.056225351668324,\n",
       " 0.058906575109280324,\n",
       " -0.044068890799405194,\n",
       " 0.007848474606243517,\n",
       " -0.04850362079499939,\n",
       " -0.02927704047979673]"
      ]
     },
     "execution_count": 41,
     "metadata": {},
     "output_type": "execute_result"
    }
   ],
   "source": [
    "coef = list(results.params)\n",
    "coef"
   ]
  },
  {
   "cell_type": "code",
   "execution_count": 42,
   "metadata": {
    "scrolled": true
   },
   "outputs": [
    {
     "data": {
      "text/plain": [
       "['const', 'CRIM', 'CHAS', 'NOX', 'RM', 'DIS', 'RAD', 'PTRATIO', 'LSTAT']"
      ]
     },
     "execution_count": 42,
     "metadata": {},
     "output_type": "execute_result"
    }
   ],
   "source": [
    "param = df_coef[\"Feature\"].tolist()\n",
    "param"
   ]
  },
  {
   "cell_type": "code",
   "execution_count": 43,
   "metadata": {
    "colab": {
     "base_uri": "https://localhost:8080/"
    },
    "id": "PWh3qZDlHTRY",
    "outputId": "30d49dad-b88b-4a70-c783-65f3c4d7f0af"
   },
   "outputs": [
    {
     "name": "stdout",
     "output_type": "stream",
     "text": [
      "log (Price) =\t( 4.649385823266646 ) *  const + ( -0.012500455079103658 ) *  CRIM + ( 0.11977319077019757 ) *  CHAS + ( -1.056225351668324 ) *  NOX + ( 0.058906575109280324 ) *  RM + ( -0.044068890799405194 ) *  DIS + ( 0.007848474606243517 ) *  RAD + ( -0.04850362079499939 ) *  PTRATIO + ( -0.02927704047979673 ) *  LSTAT + "
     ]
    }
   ],
   "source": [
    "# Let us write the equation of the fit\n",
    "Equation = \"log (Price) =\" \n",
    "print(Equation, end='\\t')\n",
    "for i in range(len(coef)):\n",
    "    print('(', coef[i], ') * ', param[i], '+', end = ' ')"
   ]
  },
  {
   "cell_type": "markdown",
   "metadata": {
    "id": "qtKmJZYxRAj-"
   },
   "source": [
    "**Conclusions**\n",
    "* A linear regression model was developed from the data that was able to explain 76% of the variance in the MSRP of properties in this area.\n",
    "* There were 8 parameters identified that significantly influence the price of properties in this Boston suburb/city.\n",
    "* These indlude:\n",
    "    * The crime rate.\n",
    "    * Whether the property was adjacent to the Charles River.\n",
    "    * The level of nitric oxides (smog) in the area.\n",
    "    * The number of rooms per dwelling.\n",
    "    * Distance to employment centers.\n",
    "    * Index of accessibility to radial highways.\n",
    "    * The pupil:teacher ratio of the schools in the area.\n",
    "    * The socieoeconomic status of the individuals living in the area.\n",
    "* The most influential parameter was NOX, with -1.056 coefficient.  This indicates that for every 1 increase in this parameter - this reduced the price of the property 1.056 times. This is logical as NOX is a measure of environmental smog.  \n",
    "* The model was verfied on a separate testing data set and further cross validated.  \n",
    "* All tests for underlying assumptions were met."
   ]
  },
  {
   "cell_type": "markdown",
   "metadata": {
    "id": "Hvyj9LZNR2PY"
   },
   "source": [
    "**Recommendations**\n",
    "* In order to predict housing prices of this area it is recommended that attention be made to the above 8 parameters. \n",
    "* Although the model performed reasonably well, the model may be improved by exploring the combination of parameters, for example combining the product of CRIM and LSAT or NOX and RAD.  \n",
    "* Overall the goal would be to reduce the number of parameters and increase the R-squared value.  \n",
    "* This may result in better prediction of housing costs and greater ease of interpretation.  "
   ]
  },
  {
   "cell_type": "code",
   "execution_count": null,
   "metadata": {},
   "outputs": [],
   "source": []
  }
 ],
 "metadata": {
  "colab": {
   "collapsed_sections": [
    "Pzh5TNLcHTQM",
    "J7VVqC8nHTQT",
    "PihFetI8HTQd"
   ],
   "name": "Learners_Notebook_Boston_house_price.ipynb",
   "provenance": []
  },
  "kernelspec": {
   "display_name": "Python 3",
   "language": "python",
   "name": "python3"
  },
  "language_info": {
   "codemirror_mode": {
    "name": "ipython",
    "version": 3
   },
   "file_extension": ".py",
   "mimetype": "text/x-python",
   "name": "python",
   "nbconvert_exporter": "python",
   "pygments_lexer": "ipython3",
   "version": "3.8.8"
  }
 },
 "nbformat": 4,
 "nbformat_minor": 1
}
